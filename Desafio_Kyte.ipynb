{
  "nbformat": 4,
  "nbformat_minor": 0,
  "metadata": {
    "colab": {
      "name": "Desafio_Kyte.ipynb",
      "provenance": [],
      "collapsed_sections": []
    },
    "kernelspec": {
      "name": "python3",
      "display_name": "Python 3"
    },
    "language_info": {
      "name": "python"
    }
  },
  "cells": [
    {
      "cell_type": "markdown",
      "metadata": {
        "id": "4wU3Sn-tCMcN"
      },
      "source": [
        "#IMPORTANDO BIBLIOTECAS "
      ]
    },
    {
      "cell_type": "code",
      "metadata": {
        "id": "Jp3lhtVclxo3"
      },
      "source": [
        "import pandas as pd\n",
        "import matplotlib.pyplot as plt\n",
        "import numpy as np\n"
      ],
      "execution_count": null,
      "outputs": []
    },
    {
      "cell_type": "markdown",
      "metadata": {
        "id": "cpteVyTLCSGT"
      },
      "source": [
        "#CARREGANDO DADOS"
      ]
    },
    {
      "cell_type": "code",
      "metadata": {
        "colab": {
          "base_uri": "https://localhost:8080/",
          "height": 417
        },
        "id": "ycTm4VM0suHI",
        "outputId": "adc85e30-6edb-494a-9487-f46bb4f86397"
      },
      "source": [
        "tabela = pd.read_csv('/content/Base_Teste_Estagio.xls')\n",
        "display(tabela)"
      ],
      "execution_count": null,
      "outputs": [
        {
          "output_type": "display_data",
          "data": {
            "text/html": [
              "<div>\n",
              "<style scoped>\n",
              "    .dataframe tbody tr th:only-of-type {\n",
              "        vertical-align: middle;\n",
              "    }\n",
              "\n",
              "    .dataframe tbody tr th {\n",
              "        vertical-align: top;\n",
              "    }\n",
              "\n",
              "    .dataframe thead th {\n",
              "        text-align: right;\n",
              "    }\n",
              "</style>\n",
              "<table border=\"1\" class=\"dataframe\">\n",
              "  <thead>\n",
              "    <tr style=\"text-align: right;\">\n",
              "      <th></th>\n",
              "      <th>ID</th>\n",
              "      <th>Tipo_Identidade</th>\n",
              "      <th>Status_Plano</th>\n",
              "      <th>Sistema_Operacional</th>\n",
              "      <th>Recorrência</th>\n",
              "      <th>Tipo_Pagamento</th>\n",
              "      <th>Data_Criacao</th>\n",
              "      <th>Data_Compra</th>\n",
              "    </tr>\n",
              "  </thead>\n",
              "  <tbody>\n",
              "    <tr>\n",
              "      <th>0</th>\n",
              "      <td>5hhLsLAf14Nmlu</td>\n",
              "      <td>cnpj</td>\n",
              "      <td>trial</td>\n",
              "      <td>android</td>\n",
              "      <td>NaN</td>\n",
              "      <td>NaN</td>\n",
              "      <td>2021-06-02 22:58:51.000</td>\n",
              "      <td>NaN</td>\n",
              "    </tr>\n",
              "    <tr>\n",
              "      <th>1</th>\n",
              "      <td>nXkrWYSq6KciuW</td>\n",
              "      <td>NaN</td>\n",
              "      <td>trial</td>\n",
              "      <td>web</td>\n",
              "      <td>NaN</td>\n",
              "      <td>NaN</td>\n",
              "      <td>2021-08-08 19:40:06.000</td>\n",
              "      <td>NaN</td>\n",
              "    </tr>\n",
              "    <tr>\n",
              "      <th>2</th>\n",
              "      <td>djBEsGHI8lPt3F</td>\n",
              "      <td>cnpj</td>\n",
              "      <td>trial</td>\n",
              "      <td>ios</td>\n",
              "      <td>NaN</td>\n",
              "      <td>NaN</td>\n",
              "      <td>2021-06-09 22:50:22.000</td>\n",
              "      <td>NaN</td>\n",
              "    </tr>\n",
              "    <tr>\n",
              "      <th>3</th>\n",
              "      <td>9f89gMGdz0U4l3</td>\n",
              "      <td>NaN</td>\n",
              "      <td>trial</td>\n",
              "      <td>android</td>\n",
              "      <td>NaN</td>\n",
              "      <td>NaN</td>\n",
              "      <td>2021-05-01 17:32:09.000</td>\n",
              "      <td>NaN</td>\n",
              "    </tr>\n",
              "    <tr>\n",
              "      <th>4</th>\n",
              "      <td>UmmJb0tijBSTCC</td>\n",
              "      <td>NaN</td>\n",
              "      <td>trial</td>\n",
              "      <td>android</td>\n",
              "      <td>NaN</td>\n",
              "      <td>NaN</td>\n",
              "      <td>2021-06-20 08:27:29.000</td>\n",
              "      <td>NaN</td>\n",
              "    </tr>\n",
              "    <tr>\n",
              "      <th>...</th>\n",
              "      <td>...</td>\n",
              "      <td>...</td>\n",
              "      <td>...</td>\n",
              "      <td>...</td>\n",
              "      <td>...</td>\n",
              "      <td>...</td>\n",
              "      <td>...</td>\n",
              "      <td>...</td>\n",
              "    </tr>\n",
              "    <tr>\n",
              "      <th>369625</th>\n",
              "      <td>mDF8bIXIlZdzOY</td>\n",
              "      <td>int</td>\n",
              "      <td>trial</td>\n",
              "      <td>ios</td>\n",
              "      <td>NaN</td>\n",
              "      <td>NaN</td>\n",
              "      <td>2021-07-25 01:02:28.000</td>\n",
              "      <td>NaN</td>\n",
              "    </tr>\n",
              "    <tr>\n",
              "      <th>369626</th>\n",
              "      <td>mDF8bIXIlZdzOY</td>\n",
              "      <td>int</td>\n",
              "      <td>trial</td>\n",
              "      <td>web</td>\n",
              "      <td>NaN</td>\n",
              "      <td>NaN</td>\n",
              "      <td>2021-07-25 13:32:15.000</td>\n",
              "      <td>NaN</td>\n",
              "    </tr>\n",
              "    <tr>\n",
              "      <th>369627</th>\n",
              "      <td>mDF8bIXIlZdzOY</td>\n",
              "      <td>int</td>\n",
              "      <td>trial</td>\n",
              "      <td>web</td>\n",
              "      <td>NaN</td>\n",
              "      <td>NaN</td>\n",
              "      <td>2021-07-25 13:31:46.000</td>\n",
              "      <td>NaN</td>\n",
              "    </tr>\n",
              "    <tr>\n",
              "      <th>369628</th>\n",
              "      <td>mDF8bIXIlZdzOY</td>\n",
              "      <td>int</td>\n",
              "      <td>trial</td>\n",
              "      <td>web</td>\n",
              "      <td>NaN</td>\n",
              "      <td>NaN</td>\n",
              "      <td>2021-07-25 13:31:41.000</td>\n",
              "      <td>NaN</td>\n",
              "    </tr>\n",
              "    <tr>\n",
              "      <th>369629</th>\n",
              "      <td>Lv3etATFkdUZg6</td>\n",
              "      <td>NaN</td>\n",
              "      <td>trial</td>\n",
              "      <td>web</td>\n",
              "      <td>NaN</td>\n",
              "      <td>NaN</td>\n",
              "      <td>2021-06-04 18:17:47.000</td>\n",
              "      <td>NaN</td>\n",
              "    </tr>\n",
              "  </tbody>\n",
              "</table>\n",
              "<p>369630 rows × 8 columns</p>\n",
              "</div>"
            ],
            "text/plain": [
              "                    ID Tipo_Identidade  ...             Data_Criacao Data_Compra\n",
              "0       5hhLsLAf14Nmlu            cnpj  ...  2021-06-02 22:58:51.000         NaN\n",
              "1       nXkrWYSq6KciuW             NaN  ...  2021-08-08 19:40:06.000         NaN\n",
              "2       djBEsGHI8lPt3F            cnpj  ...  2021-06-09 22:50:22.000         NaN\n",
              "3       9f89gMGdz0U4l3             NaN  ...  2021-05-01 17:32:09.000         NaN\n",
              "4       UmmJb0tijBSTCC             NaN  ...  2021-06-20 08:27:29.000         NaN\n",
              "...                ...             ...  ...                      ...         ...\n",
              "369625  mDF8bIXIlZdzOY             int  ...  2021-07-25 01:02:28.000         NaN\n",
              "369626  mDF8bIXIlZdzOY             int  ...  2021-07-25 13:32:15.000         NaN\n",
              "369627  mDF8bIXIlZdzOY             int  ...  2021-07-25 13:31:46.000         NaN\n",
              "369628  mDF8bIXIlZdzOY             int  ...  2021-07-25 13:31:41.000         NaN\n",
              "369629  Lv3etATFkdUZg6             NaN  ...  2021-06-04 18:17:47.000         NaN\n",
              "\n",
              "[369630 rows x 8 columns]"
            ]
          },
          "metadata": {}
        }
      ]
    },
    {
      "cell_type": "code",
      "metadata": {
        "colab": {
          "base_uri": "https://localhost:8080/",
          "height": 417
        },
        "id": "xXINIhEWs3Yj",
        "outputId": "47b66284-e1df-4a76-fad9-827b32cb3115"
      },
      "source": [
        "tabela.dropna(how='all') # Exclui as colunas que tem todos os valores faltando \"NAN\""
      ],
      "execution_count": null,
      "outputs": [
        {
          "output_type": "execute_result",
          "data": {
            "text/html": [
              "<div>\n",
              "<style scoped>\n",
              "    .dataframe tbody tr th:only-of-type {\n",
              "        vertical-align: middle;\n",
              "    }\n",
              "\n",
              "    .dataframe tbody tr th {\n",
              "        vertical-align: top;\n",
              "    }\n",
              "\n",
              "    .dataframe thead th {\n",
              "        text-align: right;\n",
              "    }\n",
              "</style>\n",
              "<table border=\"1\" class=\"dataframe\">\n",
              "  <thead>\n",
              "    <tr style=\"text-align: right;\">\n",
              "      <th></th>\n",
              "      <th>ID</th>\n",
              "      <th>Tipo_Identidade</th>\n",
              "      <th>Status_Plano</th>\n",
              "      <th>Sistema_Operacional</th>\n",
              "      <th>Recorrência</th>\n",
              "      <th>Tipo_Pagamento</th>\n",
              "      <th>Data_Criacao</th>\n",
              "      <th>Data_Compra</th>\n",
              "    </tr>\n",
              "  </thead>\n",
              "  <tbody>\n",
              "    <tr>\n",
              "      <th>0</th>\n",
              "      <td>5hhLsLAf14Nmlu</td>\n",
              "      <td>cnpj</td>\n",
              "      <td>trial</td>\n",
              "      <td>android</td>\n",
              "      <td>NaN</td>\n",
              "      <td>NaN</td>\n",
              "      <td>2021-06-02 22:58:51.000</td>\n",
              "      <td>NaN</td>\n",
              "    </tr>\n",
              "    <tr>\n",
              "      <th>1</th>\n",
              "      <td>nXkrWYSq6KciuW</td>\n",
              "      <td>NaN</td>\n",
              "      <td>trial</td>\n",
              "      <td>web</td>\n",
              "      <td>NaN</td>\n",
              "      <td>NaN</td>\n",
              "      <td>2021-08-08 19:40:06.000</td>\n",
              "      <td>NaN</td>\n",
              "    </tr>\n",
              "    <tr>\n",
              "      <th>2</th>\n",
              "      <td>djBEsGHI8lPt3F</td>\n",
              "      <td>cnpj</td>\n",
              "      <td>trial</td>\n",
              "      <td>ios</td>\n",
              "      <td>NaN</td>\n",
              "      <td>NaN</td>\n",
              "      <td>2021-06-09 22:50:22.000</td>\n",
              "      <td>NaN</td>\n",
              "    </tr>\n",
              "    <tr>\n",
              "      <th>3</th>\n",
              "      <td>9f89gMGdz0U4l3</td>\n",
              "      <td>NaN</td>\n",
              "      <td>trial</td>\n",
              "      <td>android</td>\n",
              "      <td>NaN</td>\n",
              "      <td>NaN</td>\n",
              "      <td>2021-05-01 17:32:09.000</td>\n",
              "      <td>NaN</td>\n",
              "    </tr>\n",
              "    <tr>\n",
              "      <th>4</th>\n",
              "      <td>UmmJb0tijBSTCC</td>\n",
              "      <td>NaN</td>\n",
              "      <td>trial</td>\n",
              "      <td>android</td>\n",
              "      <td>NaN</td>\n",
              "      <td>NaN</td>\n",
              "      <td>2021-06-20 08:27:29.000</td>\n",
              "      <td>NaN</td>\n",
              "    </tr>\n",
              "    <tr>\n",
              "      <th>...</th>\n",
              "      <td>...</td>\n",
              "      <td>...</td>\n",
              "      <td>...</td>\n",
              "      <td>...</td>\n",
              "      <td>...</td>\n",
              "      <td>...</td>\n",
              "      <td>...</td>\n",
              "      <td>...</td>\n",
              "    </tr>\n",
              "    <tr>\n",
              "      <th>369625</th>\n",
              "      <td>mDF8bIXIlZdzOY</td>\n",
              "      <td>int</td>\n",
              "      <td>trial</td>\n",
              "      <td>ios</td>\n",
              "      <td>NaN</td>\n",
              "      <td>NaN</td>\n",
              "      <td>2021-07-25 01:02:28.000</td>\n",
              "      <td>NaN</td>\n",
              "    </tr>\n",
              "    <tr>\n",
              "      <th>369626</th>\n",
              "      <td>mDF8bIXIlZdzOY</td>\n",
              "      <td>int</td>\n",
              "      <td>trial</td>\n",
              "      <td>web</td>\n",
              "      <td>NaN</td>\n",
              "      <td>NaN</td>\n",
              "      <td>2021-07-25 13:32:15.000</td>\n",
              "      <td>NaN</td>\n",
              "    </tr>\n",
              "    <tr>\n",
              "      <th>369627</th>\n",
              "      <td>mDF8bIXIlZdzOY</td>\n",
              "      <td>int</td>\n",
              "      <td>trial</td>\n",
              "      <td>web</td>\n",
              "      <td>NaN</td>\n",
              "      <td>NaN</td>\n",
              "      <td>2021-07-25 13:31:46.000</td>\n",
              "      <td>NaN</td>\n",
              "    </tr>\n",
              "    <tr>\n",
              "      <th>369628</th>\n",
              "      <td>mDF8bIXIlZdzOY</td>\n",
              "      <td>int</td>\n",
              "      <td>trial</td>\n",
              "      <td>web</td>\n",
              "      <td>NaN</td>\n",
              "      <td>NaN</td>\n",
              "      <td>2021-07-25 13:31:41.000</td>\n",
              "      <td>NaN</td>\n",
              "    </tr>\n",
              "    <tr>\n",
              "      <th>369629</th>\n",
              "      <td>Lv3etATFkdUZg6</td>\n",
              "      <td>NaN</td>\n",
              "      <td>trial</td>\n",
              "      <td>web</td>\n",
              "      <td>NaN</td>\n",
              "      <td>NaN</td>\n",
              "      <td>2021-06-04 18:17:47.000</td>\n",
              "      <td>NaN</td>\n",
              "    </tr>\n",
              "  </tbody>\n",
              "</table>\n",
              "<p>369630 rows × 8 columns</p>\n",
              "</div>"
            ],
            "text/plain": [
              "                    ID Tipo_Identidade  ...             Data_Criacao Data_Compra\n",
              "0       5hhLsLAf14Nmlu            cnpj  ...  2021-06-02 22:58:51.000         NaN\n",
              "1       nXkrWYSq6KciuW             NaN  ...  2021-08-08 19:40:06.000         NaN\n",
              "2       djBEsGHI8lPt3F            cnpj  ...  2021-06-09 22:50:22.000         NaN\n",
              "3       9f89gMGdz0U4l3             NaN  ...  2021-05-01 17:32:09.000         NaN\n",
              "4       UmmJb0tijBSTCC             NaN  ...  2021-06-20 08:27:29.000         NaN\n",
              "...                ...             ...  ...                      ...         ...\n",
              "369625  mDF8bIXIlZdzOY             int  ...  2021-07-25 01:02:28.000         NaN\n",
              "369626  mDF8bIXIlZdzOY             int  ...  2021-07-25 13:32:15.000         NaN\n",
              "369627  mDF8bIXIlZdzOY             int  ...  2021-07-25 13:31:46.000         NaN\n",
              "369628  mDF8bIXIlZdzOY             int  ...  2021-07-25 13:31:41.000         NaN\n",
              "369629  Lv3etATFkdUZg6             NaN  ...  2021-06-04 18:17:47.000         NaN\n",
              "\n",
              "[369630 rows x 8 columns]"
            ]
          },
          "metadata": {},
          "execution_count": 590
        }
      ]
    },
    {
      "cell_type": "code",
      "metadata": {
        "colab": {
          "base_uri": "https://localhost:8080/",
          "height": 417
        },
        "id": "pZsMH_a__Mii",
        "outputId": "98f0bc13-6245-47f0-e5fa-cad7a2379e64"
      },
      "source": [
        "tabela = tabela.dropna(how='all') \n",
        "display(tabela)"
      ],
      "execution_count": null,
      "outputs": [
        {
          "output_type": "display_data",
          "data": {
            "text/html": [
              "<div>\n",
              "<style scoped>\n",
              "    .dataframe tbody tr th:only-of-type {\n",
              "        vertical-align: middle;\n",
              "    }\n",
              "\n",
              "    .dataframe tbody tr th {\n",
              "        vertical-align: top;\n",
              "    }\n",
              "\n",
              "    .dataframe thead th {\n",
              "        text-align: right;\n",
              "    }\n",
              "</style>\n",
              "<table border=\"1\" class=\"dataframe\">\n",
              "  <thead>\n",
              "    <tr style=\"text-align: right;\">\n",
              "      <th></th>\n",
              "      <th>ID</th>\n",
              "      <th>Tipo_Identidade</th>\n",
              "      <th>Status_Plano</th>\n",
              "      <th>Sistema_Operacional</th>\n",
              "      <th>Recorrência</th>\n",
              "      <th>Tipo_Pagamento</th>\n",
              "      <th>Data_Criacao</th>\n",
              "      <th>Data_Compra</th>\n",
              "    </tr>\n",
              "  </thead>\n",
              "  <tbody>\n",
              "    <tr>\n",
              "      <th>0</th>\n",
              "      <td>5hhLsLAf14Nmlu</td>\n",
              "      <td>cnpj</td>\n",
              "      <td>trial</td>\n",
              "      <td>android</td>\n",
              "      <td>NaN</td>\n",
              "      <td>NaN</td>\n",
              "      <td>2021-06-02 22:58:51.000</td>\n",
              "      <td>NaN</td>\n",
              "    </tr>\n",
              "    <tr>\n",
              "      <th>1</th>\n",
              "      <td>nXkrWYSq6KciuW</td>\n",
              "      <td>NaN</td>\n",
              "      <td>trial</td>\n",
              "      <td>web</td>\n",
              "      <td>NaN</td>\n",
              "      <td>NaN</td>\n",
              "      <td>2021-08-08 19:40:06.000</td>\n",
              "      <td>NaN</td>\n",
              "    </tr>\n",
              "    <tr>\n",
              "      <th>2</th>\n",
              "      <td>djBEsGHI8lPt3F</td>\n",
              "      <td>cnpj</td>\n",
              "      <td>trial</td>\n",
              "      <td>ios</td>\n",
              "      <td>NaN</td>\n",
              "      <td>NaN</td>\n",
              "      <td>2021-06-09 22:50:22.000</td>\n",
              "      <td>NaN</td>\n",
              "    </tr>\n",
              "    <tr>\n",
              "      <th>3</th>\n",
              "      <td>9f89gMGdz0U4l3</td>\n",
              "      <td>NaN</td>\n",
              "      <td>trial</td>\n",
              "      <td>android</td>\n",
              "      <td>NaN</td>\n",
              "      <td>NaN</td>\n",
              "      <td>2021-05-01 17:32:09.000</td>\n",
              "      <td>NaN</td>\n",
              "    </tr>\n",
              "    <tr>\n",
              "      <th>4</th>\n",
              "      <td>UmmJb0tijBSTCC</td>\n",
              "      <td>NaN</td>\n",
              "      <td>trial</td>\n",
              "      <td>android</td>\n",
              "      <td>NaN</td>\n",
              "      <td>NaN</td>\n",
              "      <td>2021-06-20 08:27:29.000</td>\n",
              "      <td>NaN</td>\n",
              "    </tr>\n",
              "    <tr>\n",
              "      <th>...</th>\n",
              "      <td>...</td>\n",
              "      <td>...</td>\n",
              "      <td>...</td>\n",
              "      <td>...</td>\n",
              "      <td>...</td>\n",
              "      <td>...</td>\n",
              "      <td>...</td>\n",
              "      <td>...</td>\n",
              "    </tr>\n",
              "    <tr>\n",
              "      <th>369625</th>\n",
              "      <td>mDF8bIXIlZdzOY</td>\n",
              "      <td>int</td>\n",
              "      <td>trial</td>\n",
              "      <td>ios</td>\n",
              "      <td>NaN</td>\n",
              "      <td>NaN</td>\n",
              "      <td>2021-07-25 01:02:28.000</td>\n",
              "      <td>NaN</td>\n",
              "    </tr>\n",
              "    <tr>\n",
              "      <th>369626</th>\n",
              "      <td>mDF8bIXIlZdzOY</td>\n",
              "      <td>int</td>\n",
              "      <td>trial</td>\n",
              "      <td>web</td>\n",
              "      <td>NaN</td>\n",
              "      <td>NaN</td>\n",
              "      <td>2021-07-25 13:32:15.000</td>\n",
              "      <td>NaN</td>\n",
              "    </tr>\n",
              "    <tr>\n",
              "      <th>369627</th>\n",
              "      <td>mDF8bIXIlZdzOY</td>\n",
              "      <td>int</td>\n",
              "      <td>trial</td>\n",
              "      <td>web</td>\n",
              "      <td>NaN</td>\n",
              "      <td>NaN</td>\n",
              "      <td>2021-07-25 13:31:46.000</td>\n",
              "      <td>NaN</td>\n",
              "    </tr>\n",
              "    <tr>\n",
              "      <th>369628</th>\n",
              "      <td>mDF8bIXIlZdzOY</td>\n",
              "      <td>int</td>\n",
              "      <td>trial</td>\n",
              "      <td>web</td>\n",
              "      <td>NaN</td>\n",
              "      <td>NaN</td>\n",
              "      <td>2021-07-25 13:31:41.000</td>\n",
              "      <td>NaN</td>\n",
              "    </tr>\n",
              "    <tr>\n",
              "      <th>369629</th>\n",
              "      <td>Lv3etATFkdUZg6</td>\n",
              "      <td>NaN</td>\n",
              "      <td>trial</td>\n",
              "      <td>web</td>\n",
              "      <td>NaN</td>\n",
              "      <td>NaN</td>\n",
              "      <td>2021-06-04 18:17:47.000</td>\n",
              "      <td>NaN</td>\n",
              "    </tr>\n",
              "  </tbody>\n",
              "</table>\n",
              "<p>369630 rows × 8 columns</p>\n",
              "</div>"
            ],
            "text/plain": [
              "                    ID Tipo_Identidade  ...             Data_Criacao Data_Compra\n",
              "0       5hhLsLAf14Nmlu            cnpj  ...  2021-06-02 22:58:51.000         NaN\n",
              "1       nXkrWYSq6KciuW             NaN  ...  2021-08-08 19:40:06.000         NaN\n",
              "2       djBEsGHI8lPt3F            cnpj  ...  2021-06-09 22:50:22.000         NaN\n",
              "3       9f89gMGdz0U4l3             NaN  ...  2021-05-01 17:32:09.000         NaN\n",
              "4       UmmJb0tijBSTCC             NaN  ...  2021-06-20 08:27:29.000         NaN\n",
              "...                ...             ...  ...                      ...         ...\n",
              "369625  mDF8bIXIlZdzOY             int  ...  2021-07-25 01:02:28.000         NaN\n",
              "369626  mDF8bIXIlZdzOY             int  ...  2021-07-25 13:32:15.000         NaN\n",
              "369627  mDF8bIXIlZdzOY             int  ...  2021-07-25 13:31:46.000         NaN\n",
              "369628  mDF8bIXIlZdzOY             int  ...  2021-07-25 13:31:41.000         NaN\n",
              "369629  Lv3etATFkdUZg6             NaN  ...  2021-06-04 18:17:47.000         NaN\n",
              "\n",
              "[369630 rows x 8 columns]"
            ]
          },
          "metadata": {}
        }
      ]
    },
    {
      "cell_type": "code",
      "metadata": {
        "colab": {
          "base_uri": "https://localhost:8080/",
          "height": 142
        },
        "id": "UwzmV1BDBZIf",
        "outputId": "db0803b4-1f9d-4991-a952-0a8235fd356b"
      },
      "source": [
        "tabela.groupby('Status_Plano').count() #Total de usuários pagantes e usuários em trial"
      ],
      "execution_count": null,
      "outputs": [
        {
          "output_type": "execute_result",
          "data": {
            "text/html": [
              "<div>\n",
              "<style scoped>\n",
              "    .dataframe tbody tr th:only-of-type {\n",
              "        vertical-align: middle;\n",
              "    }\n",
              "\n",
              "    .dataframe tbody tr th {\n",
              "        vertical-align: top;\n",
              "    }\n",
              "\n",
              "    .dataframe thead th {\n",
              "        text-align: right;\n",
              "    }\n",
              "</style>\n",
              "<table border=\"1\" class=\"dataframe\">\n",
              "  <thead>\n",
              "    <tr style=\"text-align: right;\">\n",
              "      <th></th>\n",
              "      <th>ID</th>\n",
              "      <th>Tipo_Identidade</th>\n",
              "      <th>Sistema_Operacional</th>\n",
              "      <th>Recorrência</th>\n",
              "      <th>Tipo_Pagamento</th>\n",
              "      <th>Data_Criacao</th>\n",
              "      <th>Data_Compra</th>\n",
              "    </tr>\n",
              "    <tr>\n",
              "      <th>Status_Plano</th>\n",
              "      <th></th>\n",
              "      <th></th>\n",
              "      <th></th>\n",
              "      <th></th>\n",
              "      <th></th>\n",
              "      <th></th>\n",
              "      <th></th>\n",
              "    </tr>\n",
              "  </thead>\n",
              "  <tbody>\n",
              "    <tr>\n",
              "      <th>paid</th>\n",
              "      <td>15150</td>\n",
              "      <td>11628</td>\n",
              "      <td>15150</td>\n",
              "      <td>14946</td>\n",
              "      <td>14965</td>\n",
              "      <td>15150</td>\n",
              "      <td>14950</td>\n",
              "    </tr>\n",
              "    <tr>\n",
              "      <th>trial</th>\n",
              "      <td>354480</td>\n",
              "      <td>77897</td>\n",
              "      <td>354478</td>\n",
              "      <td>45</td>\n",
              "      <td>121</td>\n",
              "      <td>354480</td>\n",
              "      <td>45</td>\n",
              "    </tr>\n",
              "  </tbody>\n",
              "</table>\n",
              "</div>"
            ],
            "text/plain": [
              "                  ID  Tipo_Identidade  ...  Data_Criacao  Data_Compra\n",
              "Status_Plano                           ...                           \n",
              "paid           15150            11628  ...         15150        14950\n",
              "trial         354480            77897  ...        354480           45\n",
              "\n",
              "[2 rows x 7 columns]"
            ]
          },
          "metadata": {},
          "execution_count": 592
        }
      ]
    },
    {
      "cell_type": "code",
      "metadata": {
        "colab": {
          "base_uri": "https://localhost:8080/",
          "height": 203
        },
        "id": "j383RfbpBkE_",
        "outputId": "64c59fd0-4c35-41cb-d0f8-e089fa353d87"
      },
      "source": [
        "tabela.groupby('Sistema_Operacional',).count()"
      ],
      "execution_count": null,
      "outputs": [
        {
          "output_type": "execute_result",
          "data": {
            "text/html": [
              "<div>\n",
              "<style scoped>\n",
              "    .dataframe tbody tr th:only-of-type {\n",
              "        vertical-align: middle;\n",
              "    }\n",
              "\n",
              "    .dataframe tbody tr th {\n",
              "        vertical-align: top;\n",
              "    }\n",
              "\n",
              "    .dataframe thead th {\n",
              "        text-align: right;\n",
              "    }\n",
              "</style>\n",
              "<table border=\"1\" class=\"dataframe\">\n",
              "  <thead>\n",
              "    <tr style=\"text-align: right;\">\n",
              "      <th></th>\n",
              "      <th>ID</th>\n",
              "      <th>Tipo_Identidade</th>\n",
              "      <th>Status_Plano</th>\n",
              "      <th>Recorrência</th>\n",
              "      <th>Tipo_Pagamento</th>\n",
              "      <th>Data_Criacao</th>\n",
              "      <th>Data_Compra</th>\n",
              "    </tr>\n",
              "    <tr>\n",
              "      <th>Sistema_Operacional</th>\n",
              "      <th></th>\n",
              "      <th></th>\n",
              "      <th></th>\n",
              "      <th></th>\n",
              "      <th></th>\n",
              "      <th></th>\n",
              "      <th></th>\n",
              "    </tr>\n",
              "  </thead>\n",
              "  <tbody>\n",
              "    <tr>\n",
              "      <th>android</th>\n",
              "      <td>231264</td>\n",
              "      <td>57748</td>\n",
              "      <td>231264</td>\n",
              "      <td>6377</td>\n",
              "      <td>6379</td>\n",
              "      <td>231264</td>\n",
              "      <td>6377</td>\n",
              "    </tr>\n",
              "    <tr>\n",
              "      <th>ios</th>\n",
              "      <td>80354</td>\n",
              "      <td>23553</td>\n",
              "      <td>80354</td>\n",
              "      <td>5494</td>\n",
              "      <td>5586</td>\n",
              "      <td>80354</td>\n",
              "      <td>5498</td>\n",
              "    </tr>\n",
              "    <tr>\n",
              "      <th>kyte-web</th>\n",
              "      <td>105</td>\n",
              "      <td>2</td>\n",
              "      <td>105</td>\n",
              "      <td>0</td>\n",
              "      <td>0</td>\n",
              "      <td>105</td>\n",
              "      <td>0</td>\n",
              "    </tr>\n",
              "    <tr>\n",
              "      <th>web</th>\n",
              "      <td>57905</td>\n",
              "      <td>8222</td>\n",
              "      <td>57905</td>\n",
              "      <td>3120</td>\n",
              "      <td>3121</td>\n",
              "      <td>57905</td>\n",
              "      <td>3120</td>\n",
              "    </tr>\n",
              "  </tbody>\n",
              "</table>\n",
              "</div>"
            ],
            "text/plain": [
              "                         ID  Tipo_Identidade  ...  Data_Criacao  Data_Compra\n",
              "Sistema_Operacional                           ...                           \n",
              "android              231264            57748  ...        231264         6377\n",
              "ios                   80354            23553  ...         80354         5498\n",
              "kyte-web                105                2  ...           105            0\n",
              "web                   57905             8222  ...         57905         3120\n",
              "\n",
              "[4 rows x 7 columns]"
            ]
          },
          "metadata": {},
          "execution_count": 593
        }
      ]
    },
    {
      "cell_type": "code",
      "metadata": {
        "colab": {
          "base_uri": "https://localhost:8080/",
          "height": 203
        },
        "id": "dLdTynT6C1da",
        "outputId": "ddac9e00-3e56-4f78-bb1b-8aa9c3f63b63"
      },
      "source": [
        "android = tabela.loc[tabela['Sistema_Operacional']=='android']\n",
        "android.head(5)"
      ],
      "execution_count": null,
      "outputs": [
        {
          "output_type": "execute_result",
          "data": {
            "text/html": [
              "<div>\n",
              "<style scoped>\n",
              "    .dataframe tbody tr th:only-of-type {\n",
              "        vertical-align: middle;\n",
              "    }\n",
              "\n",
              "    .dataframe tbody tr th {\n",
              "        vertical-align: top;\n",
              "    }\n",
              "\n",
              "    .dataframe thead th {\n",
              "        text-align: right;\n",
              "    }\n",
              "</style>\n",
              "<table border=\"1\" class=\"dataframe\">\n",
              "  <thead>\n",
              "    <tr style=\"text-align: right;\">\n",
              "      <th></th>\n",
              "      <th>ID</th>\n",
              "      <th>Tipo_Identidade</th>\n",
              "      <th>Status_Plano</th>\n",
              "      <th>Sistema_Operacional</th>\n",
              "      <th>Recorrência</th>\n",
              "      <th>Tipo_Pagamento</th>\n",
              "      <th>Data_Criacao</th>\n",
              "      <th>Data_Compra</th>\n",
              "    </tr>\n",
              "  </thead>\n",
              "  <tbody>\n",
              "    <tr>\n",
              "      <th>0</th>\n",
              "      <td>5hhLsLAf14Nmlu</td>\n",
              "      <td>cnpj</td>\n",
              "      <td>trial</td>\n",
              "      <td>android</td>\n",
              "      <td>NaN</td>\n",
              "      <td>NaN</td>\n",
              "      <td>2021-06-02 22:58:51.000</td>\n",
              "      <td>NaN</td>\n",
              "    </tr>\n",
              "    <tr>\n",
              "      <th>3</th>\n",
              "      <td>9f89gMGdz0U4l3</td>\n",
              "      <td>NaN</td>\n",
              "      <td>trial</td>\n",
              "      <td>android</td>\n",
              "      <td>NaN</td>\n",
              "      <td>NaN</td>\n",
              "      <td>2021-05-01 17:32:09.000</td>\n",
              "      <td>NaN</td>\n",
              "    </tr>\n",
              "    <tr>\n",
              "      <th>4</th>\n",
              "      <td>UmmJb0tijBSTCC</td>\n",
              "      <td>NaN</td>\n",
              "      <td>trial</td>\n",
              "      <td>android</td>\n",
              "      <td>NaN</td>\n",
              "      <td>NaN</td>\n",
              "      <td>2021-06-20 08:27:29.000</td>\n",
              "      <td>NaN</td>\n",
              "    </tr>\n",
              "    <tr>\n",
              "      <th>6</th>\n",
              "      <td>F7e4PhGJ0FTn32</td>\n",
              "      <td>NaN</td>\n",
              "      <td>trial</td>\n",
              "      <td>android</td>\n",
              "      <td>NaN</td>\n",
              "      <td>NaN</td>\n",
              "      <td>2021-06-01 23:41:55.000</td>\n",
              "      <td>NaN</td>\n",
              "    </tr>\n",
              "    <tr>\n",
              "      <th>7</th>\n",
              "      <td>xmUDd3Y4srXI1K</td>\n",
              "      <td>NaN</td>\n",
              "      <td>trial</td>\n",
              "      <td>android</td>\n",
              "      <td>NaN</td>\n",
              "      <td>NaN</td>\n",
              "      <td>2021-05-20 13:06:09.000</td>\n",
              "      <td>NaN</td>\n",
              "    </tr>\n",
              "  </tbody>\n",
              "</table>\n",
              "</div>"
            ],
            "text/plain": [
              "               ID Tipo_Identidade  ...             Data_Criacao Data_Compra\n",
              "0  5hhLsLAf14Nmlu            cnpj  ...  2021-06-02 22:58:51.000         NaN\n",
              "3  9f89gMGdz0U4l3             NaN  ...  2021-05-01 17:32:09.000         NaN\n",
              "4  UmmJb0tijBSTCC             NaN  ...  2021-06-20 08:27:29.000         NaN\n",
              "6  F7e4PhGJ0FTn32             NaN  ...  2021-06-01 23:41:55.000         NaN\n",
              "7  xmUDd3Y4srXI1K             NaN  ...  2021-05-20 13:06:09.000         NaN\n",
              "\n",
              "[5 rows x 8 columns]"
            ]
          },
          "metadata": {},
          "execution_count": 594
        }
      ]
    },
    {
      "cell_type": "markdown",
      "metadata": {
        "id": "L0hlc6iTG-A3"
      },
      "source": [
        "Correlacionar sistema operacional com status do plano : saber quantos usuarios tem que tipod e plano\n"
      ]
    },
    {
      "cell_type": "code",
      "metadata": {
        "colab": {
          "base_uri": "https://localhost:8080/"
        },
        "id": "U7S8PXsrEsTf",
        "outputId": "e3cfb1fd-50ae-4959-e5a6-fc63deaa7c91"
      },
      "source": [
        "status_android = android['Status_Plano'].value_counts() # Número de usuários android que estão trial/paid\n",
        "print(status_android)\n"
      ],
      "execution_count": null,
      "outputs": [
        {
          "output_type": "stream",
          "name": "stdout",
          "text": [
            "trial    224776\n",
            "paid       6488\n",
            "Name: Status_Plano, dtype: int64\n"
          ]
        }
      ]
    },
    {
      "cell_type": "code",
      "metadata": {
        "colab": {
          "base_uri": "https://localhost:8080/",
          "height": 203
        },
        "id": "0QDUuG2CGj-8",
        "outputId": "23b5ed6c-e172-496e-f53d-c69263ec3a80"
      },
      "source": [
        "ios = tabela.loc[tabela['Sistema_Operacional']=='ios']\n",
        "ios.head(5)"
      ],
      "execution_count": null,
      "outputs": [
        {
          "output_type": "execute_result",
          "data": {
            "text/html": [
              "<div>\n",
              "<style scoped>\n",
              "    .dataframe tbody tr th:only-of-type {\n",
              "        vertical-align: middle;\n",
              "    }\n",
              "\n",
              "    .dataframe tbody tr th {\n",
              "        vertical-align: top;\n",
              "    }\n",
              "\n",
              "    .dataframe thead th {\n",
              "        text-align: right;\n",
              "    }\n",
              "</style>\n",
              "<table border=\"1\" class=\"dataframe\">\n",
              "  <thead>\n",
              "    <tr style=\"text-align: right;\">\n",
              "      <th></th>\n",
              "      <th>ID</th>\n",
              "      <th>Tipo_Identidade</th>\n",
              "      <th>Status_Plano</th>\n",
              "      <th>Sistema_Operacional</th>\n",
              "      <th>Recorrência</th>\n",
              "      <th>Tipo_Pagamento</th>\n",
              "      <th>Data_Criacao</th>\n",
              "      <th>Data_Compra</th>\n",
              "    </tr>\n",
              "  </thead>\n",
              "  <tbody>\n",
              "    <tr>\n",
              "      <th>2</th>\n",
              "      <td>djBEsGHI8lPt3F</td>\n",
              "      <td>cnpj</td>\n",
              "      <td>trial</td>\n",
              "      <td>ios</td>\n",
              "      <td>NaN</td>\n",
              "      <td>NaN</td>\n",
              "      <td>2021-06-09 22:50:22.000</td>\n",
              "      <td>NaN</td>\n",
              "    </tr>\n",
              "    <tr>\n",
              "      <th>5</th>\n",
              "      <td>CSJJUwsb0ANjz8</td>\n",
              "      <td>cpf</td>\n",
              "      <td>trial</td>\n",
              "      <td>ios</td>\n",
              "      <td>NaN</td>\n",
              "      <td>NaN</td>\n",
              "      <td>2021-05-27 09:37:50.000</td>\n",
              "      <td>NaN</td>\n",
              "    </tr>\n",
              "    <tr>\n",
              "      <th>11</th>\n",
              "      <td>3PAlQhZh5uhHt1</td>\n",
              "      <td>NaN</td>\n",
              "      <td>trial</td>\n",
              "      <td>ios</td>\n",
              "      <td>NaN</td>\n",
              "      <td>NaN</td>\n",
              "      <td>2021-06-18 16:52:18.000</td>\n",
              "      <td>NaN</td>\n",
              "    </tr>\n",
              "    <tr>\n",
              "      <th>12</th>\n",
              "      <td>7sFpCglj5PPZUD</td>\n",
              "      <td>NaN</td>\n",
              "      <td>trial</td>\n",
              "      <td>ios</td>\n",
              "      <td>NaN</td>\n",
              "      <td>NaN</td>\n",
              "      <td>2021-06-04 17:01:00.000</td>\n",
              "      <td>NaN</td>\n",
              "    </tr>\n",
              "    <tr>\n",
              "      <th>34</th>\n",
              "      <td>jPM4cIp3EMPqLa</td>\n",
              "      <td>NaN</td>\n",
              "      <td>trial</td>\n",
              "      <td>ios</td>\n",
              "      <td>NaN</td>\n",
              "      <td>NaN</td>\n",
              "      <td>2021-07-14 19:55:25.000</td>\n",
              "      <td>NaN</td>\n",
              "    </tr>\n",
              "  </tbody>\n",
              "</table>\n",
              "</div>"
            ],
            "text/plain": [
              "                ID Tipo_Identidade  ...             Data_Criacao Data_Compra\n",
              "2   djBEsGHI8lPt3F            cnpj  ...  2021-06-09 22:50:22.000         NaN\n",
              "5   CSJJUwsb0ANjz8             cpf  ...  2021-05-27 09:37:50.000         NaN\n",
              "11  3PAlQhZh5uhHt1             NaN  ...  2021-06-18 16:52:18.000         NaN\n",
              "12  7sFpCglj5PPZUD             NaN  ...  2021-06-04 17:01:00.000         NaN\n",
              "34  jPM4cIp3EMPqLa             NaN  ...  2021-07-14 19:55:25.000         NaN\n",
              "\n",
              "[5 rows x 8 columns]"
            ]
          },
          "metadata": {},
          "execution_count": 596
        }
      ]
    },
    {
      "cell_type": "code",
      "metadata": {
        "colab": {
          "base_uri": "https://localhost:8080/"
        },
        "id": "YEuV15MwIW3N",
        "outputId": "af07acc1-2bf1-436a-c14d-c8e6424b39b0"
      },
      "source": [
        "status_ios = ios['Status_Plano'].value_counts() # Número de usuários android que estão trial/paid\n",
        "print(status_ios)"
      ],
      "execution_count": null,
      "outputs": [
        {
          "output_type": "stream",
          "name": "stdout",
          "text": [
            "trial    74818\n",
            "paid      5536\n",
            "Name: Status_Plano, dtype: int64\n"
          ]
        }
      ]
    },
    {
      "cell_type": "code",
      "metadata": {
        "colab": {
          "base_uri": "https://localhost:8080/",
          "height": 203
        },
        "id": "Sdq8coobI8Ns",
        "outputId": "089fe47b-715e-432c-948e-da8f0f8fc994"
      },
      "source": [
        "web = tabela.loc[tabela['Sistema_Operacional']=='web']\n",
        "web.head(5)"
      ],
      "execution_count": null,
      "outputs": [
        {
          "output_type": "execute_result",
          "data": {
            "text/html": [
              "<div>\n",
              "<style scoped>\n",
              "    .dataframe tbody tr th:only-of-type {\n",
              "        vertical-align: middle;\n",
              "    }\n",
              "\n",
              "    .dataframe tbody tr th {\n",
              "        vertical-align: top;\n",
              "    }\n",
              "\n",
              "    .dataframe thead th {\n",
              "        text-align: right;\n",
              "    }\n",
              "</style>\n",
              "<table border=\"1\" class=\"dataframe\">\n",
              "  <thead>\n",
              "    <tr style=\"text-align: right;\">\n",
              "      <th></th>\n",
              "      <th>ID</th>\n",
              "      <th>Tipo_Identidade</th>\n",
              "      <th>Status_Plano</th>\n",
              "      <th>Sistema_Operacional</th>\n",
              "      <th>Recorrência</th>\n",
              "      <th>Tipo_Pagamento</th>\n",
              "      <th>Data_Criacao</th>\n",
              "      <th>Data_Compra</th>\n",
              "    </tr>\n",
              "  </thead>\n",
              "  <tbody>\n",
              "    <tr>\n",
              "      <th>1</th>\n",
              "      <td>nXkrWYSq6KciuW</td>\n",
              "      <td>NaN</td>\n",
              "      <td>trial</td>\n",
              "      <td>web</td>\n",
              "      <td>NaN</td>\n",
              "      <td>NaN</td>\n",
              "      <td>2021-08-08 19:40:06.000</td>\n",
              "      <td>NaN</td>\n",
              "    </tr>\n",
              "    <tr>\n",
              "      <th>13</th>\n",
              "      <td>QouB2p6kEtbZTP</td>\n",
              "      <td>NaN</td>\n",
              "      <td>trial</td>\n",
              "      <td>web</td>\n",
              "      <td>NaN</td>\n",
              "      <td>NaN</td>\n",
              "      <td>2021-07-22 15:33:13.000</td>\n",
              "      <td>NaN</td>\n",
              "    </tr>\n",
              "    <tr>\n",
              "      <th>15</th>\n",
              "      <td>h5bqSacwCPXwIg</td>\n",
              "      <td>NaN</td>\n",
              "      <td>trial</td>\n",
              "      <td>web</td>\n",
              "      <td>NaN</td>\n",
              "      <td>NaN</td>\n",
              "      <td>2021-07-03 00:31:10.000</td>\n",
              "      <td>NaN</td>\n",
              "    </tr>\n",
              "    <tr>\n",
              "      <th>25</th>\n",
              "      <td>UtRd31pBlATQmP</td>\n",
              "      <td>NaN</td>\n",
              "      <td>trial</td>\n",
              "      <td>web</td>\n",
              "      <td>NaN</td>\n",
              "      <td>NaN</td>\n",
              "      <td>2021-06-12 02:57:44.000</td>\n",
              "      <td>NaN</td>\n",
              "    </tr>\n",
              "    <tr>\n",
              "      <th>28</th>\n",
              "      <td>m0vHLQLZUfXasc</td>\n",
              "      <td>NaN</td>\n",
              "      <td>trial</td>\n",
              "      <td>web</td>\n",
              "      <td>NaN</td>\n",
              "      <td>NaN</td>\n",
              "      <td>2021-06-13 09:48:11.000</td>\n",
              "      <td>NaN</td>\n",
              "    </tr>\n",
              "  </tbody>\n",
              "</table>\n",
              "</div>"
            ],
            "text/plain": [
              "                ID Tipo_Identidade  ...             Data_Criacao Data_Compra\n",
              "1   nXkrWYSq6KciuW             NaN  ...  2021-08-08 19:40:06.000         NaN\n",
              "13  QouB2p6kEtbZTP             NaN  ...  2021-07-22 15:33:13.000         NaN\n",
              "15  h5bqSacwCPXwIg             NaN  ...  2021-07-03 00:31:10.000         NaN\n",
              "25  UtRd31pBlATQmP             NaN  ...  2021-06-12 02:57:44.000         NaN\n",
              "28  m0vHLQLZUfXasc             NaN  ...  2021-06-13 09:48:11.000         NaN\n",
              "\n",
              "[5 rows x 8 columns]"
            ]
          },
          "metadata": {},
          "execution_count": 598
        }
      ]
    },
    {
      "cell_type": "code",
      "metadata": {
        "colab": {
          "base_uri": "https://localhost:8080/"
        },
        "id": "qDjWVvzLLWbu",
        "outputId": "0eda21b3-d0f5-4aae-c7dd-67739382a88e"
      },
      "source": [
        "status_web = web['Status_Plano'].value_counts() # Número de usuários android que estão trial/paid\n",
        "print(status_web) "
      ],
      "execution_count": null,
      "outputs": [
        {
          "output_type": "stream",
          "name": "stdout",
          "text": [
            "trial    54779\n",
            "paid      3126\n",
            "Name: Status_Plano, dtype: int64\n"
          ]
        }
      ]
    },
    {
      "cell_type": "code",
      "metadata": {
        "colab": {
          "base_uri": "https://localhost:8080/",
          "height": 203
        },
        "id": "u-khsBHmLv4H",
        "outputId": "f9a0a430-2336-4bf1-81cd-c7947f906601"
      },
      "source": [
        "kyte_web = tabela.loc[tabela['Sistema_Operacional']=='kyte-web']\n",
        "kyte_web.head(5)"
      ],
      "execution_count": null,
      "outputs": [
        {
          "output_type": "execute_result",
          "data": {
            "text/html": [
              "<div>\n",
              "<style scoped>\n",
              "    .dataframe tbody tr th:only-of-type {\n",
              "        vertical-align: middle;\n",
              "    }\n",
              "\n",
              "    .dataframe tbody tr th {\n",
              "        vertical-align: top;\n",
              "    }\n",
              "\n",
              "    .dataframe thead th {\n",
              "        text-align: right;\n",
              "    }\n",
              "</style>\n",
              "<table border=\"1\" class=\"dataframe\">\n",
              "  <thead>\n",
              "    <tr style=\"text-align: right;\">\n",
              "      <th></th>\n",
              "      <th>ID</th>\n",
              "      <th>Tipo_Identidade</th>\n",
              "      <th>Status_Plano</th>\n",
              "      <th>Sistema_Operacional</th>\n",
              "      <th>Recorrência</th>\n",
              "      <th>Tipo_Pagamento</th>\n",
              "      <th>Data_Criacao</th>\n",
              "      <th>Data_Compra</th>\n",
              "    </tr>\n",
              "  </thead>\n",
              "  <tbody>\n",
              "    <tr>\n",
              "      <th>11524</th>\n",
              "      <td>XYhAASyps3ZhOD</td>\n",
              "      <td>NaN</td>\n",
              "      <td>trial</td>\n",
              "      <td>kyte-web</td>\n",
              "      <td>NaN</td>\n",
              "      <td>NaN</td>\n",
              "      <td>2021-08-24 17:14:45.000</td>\n",
              "      <td>NaN</td>\n",
              "    </tr>\n",
              "    <tr>\n",
              "      <th>11525</th>\n",
              "      <td>C2yLp57o5mMd9o</td>\n",
              "      <td>NaN</td>\n",
              "      <td>trial</td>\n",
              "      <td>kyte-web</td>\n",
              "      <td>NaN</td>\n",
              "      <td>NaN</td>\n",
              "      <td>2021-08-24 17:06:26.000</td>\n",
              "      <td>NaN</td>\n",
              "    </tr>\n",
              "    <tr>\n",
              "      <th>62397</th>\n",
              "      <td>BMuFp9Gvnwdai3</td>\n",
              "      <td>NaN</td>\n",
              "      <td>trial</td>\n",
              "      <td>kyte-web</td>\n",
              "      <td>NaN</td>\n",
              "      <td>NaN</td>\n",
              "      <td>2021-08-24 10:09:41.000</td>\n",
              "      <td>NaN</td>\n",
              "    </tr>\n",
              "    <tr>\n",
              "      <th>99079</th>\n",
              "      <td>3oL2nRX8jrfa85</td>\n",
              "      <td>NaN</td>\n",
              "      <td>trial</td>\n",
              "      <td>kyte-web</td>\n",
              "      <td>NaN</td>\n",
              "      <td>NaN</td>\n",
              "      <td>2021-08-16 08:07:57.000</td>\n",
              "      <td>NaN</td>\n",
              "    </tr>\n",
              "    <tr>\n",
              "      <th>141422</th>\n",
              "      <td>rzTonOngi0fBIF</td>\n",
              "      <td>NaN</td>\n",
              "      <td>trial</td>\n",
              "      <td>kyte-web</td>\n",
              "      <td>NaN</td>\n",
              "      <td>NaN</td>\n",
              "      <td>2021-07-21 03:19:32.000</td>\n",
              "      <td>NaN</td>\n",
              "    </tr>\n",
              "  </tbody>\n",
              "</table>\n",
              "</div>"
            ],
            "text/plain": [
              "                    ID Tipo_Identidade  ...             Data_Criacao Data_Compra\n",
              "11524   XYhAASyps3ZhOD             NaN  ...  2021-08-24 17:14:45.000         NaN\n",
              "11525   C2yLp57o5mMd9o             NaN  ...  2021-08-24 17:06:26.000         NaN\n",
              "62397   BMuFp9Gvnwdai3             NaN  ...  2021-08-24 10:09:41.000         NaN\n",
              "99079   3oL2nRX8jrfa85             NaN  ...  2021-08-16 08:07:57.000         NaN\n",
              "141422  rzTonOngi0fBIF             NaN  ...  2021-07-21 03:19:32.000         NaN\n",
              "\n",
              "[5 rows x 8 columns]"
            ]
          },
          "metadata": {},
          "execution_count": 600
        }
      ]
    },
    {
      "cell_type": "code",
      "metadata": {
        "colab": {
          "base_uri": "https://localhost:8080/"
        },
        "id": "FHAjOXQtMMzM",
        "outputId": "e10c61cc-ea3b-4cfd-c9a2-01ca76276833"
      },
      "source": [
        "status_kyte = kyte_web['Status_Plano'].value_counts() # Número de usuários android que estão trial/paid\n",
        "print(status_kyte) "
      ],
      "execution_count": null,
      "outputs": [
        {
          "output_type": "stream",
          "name": "stdout",
          "text": [
            "trial    105\n",
            "Name: Status_Plano, dtype: int64\n"
          ]
        }
      ]
    },
    {
      "cell_type": "code",
      "metadata": {
        "colab": {
          "base_uri": "https://localhost:8080/"
        },
        "id": "AoR9tzZmUZ08",
        "outputId": "27b89d27-7454-45e0-d392-d2fd3e658fc8"
      },
      "source": [
        "tabela.groupby(['Sistema_Operacional','Status_Plano']).head(50).value_counts()"
      ],
      "execution_count": null,
      "outputs": [
        {
          "output_type": "execute_result",
          "data": {
            "text/plain": [
              "ID              Tipo_Identidade  Status_Plano  Sistema_Operacional  Recorrência  Tipo_Pagamento  Data_Criacao             Data_Compra            \n",
              "zav75eHfINQ5pD  cpf              paid          ios                  monthly      apple           2021-05-31 10:22:21.000  2021-06-07 08:58:01.000    1\n",
              "HqMUEXTGzmMyJJ  cpf              paid          web                  monthly      stripe          2021-06-08 21:20:16.000  2021-06-08 21:25:20.000    1\n",
              "E0hgtcREdIdKCQ  cnpj             paid          web                  monthly      stripe          2021-05-06 16:59:37.000  2021-05-06 17:31:50.000    1\n",
              "FMGAEFGvpbVTOP  int              paid          android              monthly      ebanx           2021-09-15 22:17:01.000  2021-09-24 10:25:45.397    1\n",
              "G2n1IBU0AZPKT2  cpf              paid          android              monthly      stripe          2021-05-15 20:50:31.000  2021-06-16 23:46:22.000    1\n",
              "                                                                                                                                                    ..\n",
              "gI9K3FNrKZY1Rt  int              paid          ios                  monthly      apple           2021-05-31 09:41:51.000  2021-05-31 09:58:11.000    1\n",
              "hYD2zQ8YAahqPz  int              paid          android              monthly      stripe          2021-05-17 19:29:52.000  2021-06-30 13:42:34.000    1\n",
              "iFKSwnyezrg51v  cpf              paid          android              monthly      asaas           2021-07-07 15:08:18.000  2021-07-07 15:22:29.573    1\n",
              "iKtzP8T0XfedHH  cnpj             paid          android              monthly      stripe          2021-05-25 23:01:23.000  2021-05-29 00:04:05.000    1\n",
              "1YiDwjLljDaqot  cpf              paid          android              monthly      stripe          2021-05-15 08:41:43.000  2021-05-15 09:42:14.000    1\n",
              "Length: 94, dtype: int64"
            ]
          },
          "metadata": {},
          "execution_count": 602
        }
      ]
    },
    {
      "cell_type": "code",
      "metadata": {
        "colab": {
          "base_uri": "https://localhost:8080/"
        },
        "id": "SF99CAtOg5Fr",
        "outputId": "e719e86b-06c4-4b8f-cd57-ada4c61fafc1"
      },
      "source": [
        "print(tabela_sistema)"
      ],
      "execution_count": null,
      "outputs": [
        {
          "output_type": "stream",
          "name": "stdout",
          "text": [
            "android     231264\n",
            "ios          80354\n",
            "web          57905\n",
            "kyte-web       105\n",
            "Name: Sistema_Operacional, dtype: int64\n"
          ]
        }
      ]
    },
    {
      "cell_type": "markdown",
      "metadata": {
        "id": "kyfg7yzJnFit"
      },
      "source": [
        "#PERCENTUAL DE SISTEMAS MAIS UTILIZADOS"
      ]
    },
    {
      "cell_type": "code",
      "metadata": {
        "colab": {
          "base_uri": "https://localhost:8080/",
          "height": 575
        },
        "id": "8hxLogk7iVVt",
        "outputId": "920f12da-9397-47c0-aad1-d05ded3aa472"
      },
      "source": [
        "rotulos = ['android','ios','web','kyte-web']\n",
        "valores = ['231264','80354','57905','105']\n",
        "colors = [\"#20257c\", \"#424ad1\", \"#6a8ee8\", \"#66bbe2\", \"#66dee2\", \"#6ce2cb\"]\n",
        "explode = (0.02,0,0,0.0)\n",
        "plt.figure(figsize=(10,10))\n",
        "plt.pie(x=valores, labels=rotulos,autopct='%1.1f%%', explode = explode, shadow= True, colors=colors, wedgeprops={'edgecolor':'black'},textprops=dict(color=\"w\"), startangle=90)\n",
        "plt.legend(ncol=2,loc=8)\n",
        "plt.show()"
      ],
      "execution_count": null,
      "outputs": [
        {
          "output_type": "display_data",
          "data": {
            "image/png": "[encoded data removed]",
            "text/plain": [
              "<Figure size 720x720 with 1 Axes>"
            ]
          },
          "metadata": {}
        }
      ]
    },
    {
      "cell_type": "code",
      "metadata": {
        "colab": {
          "base_uri": "https://localhost:8080/"
        },
        "id": "zPRi328alCj7",
        "outputId": "f001cfd7-38ea-44a5-fe69-82c2afacfe4c"
      },
      "source": [
        "print(status_android)\n",
        "print(status_ios)\n",
        "print(status_web)\n",
        "print(status_kyte)"
      ],
      "execution_count": null,
      "outputs": [
        {
          "output_type": "stream",
          "name": "stdout",
          "text": [
            "trial    224776\n",
            "paid       6488\n",
            "Name: Status_Plano, dtype: int64\n",
            "trial    74818\n",
            "paid      5536\n",
            "Name: Status_Plano, dtype: int64\n",
            "trial    54779\n",
            "paid      3126\n",
            "Name: Status_Plano, dtype: int64\n",
            "trial    105\n",
            "Name: Status_Plano, dtype: int64\n"
          ]
        }
      ]
    },
    {
      "cell_type": "code",
      "metadata": {
        "colab": {
          "base_uri": "https://localhost:8080/",
          "height": 172
        },
        "id": "2bgn3B10uBkP",
        "outputId": "f8ac434a-b455-4082-fc60-f199376f2143"
      },
      "source": [
        "df = pd.DataFrame([['android',224776,6488,231264],['ios',74818,5536,80354],['kyte_web',54779,3126,57905],['web',100,0,100]], index=range(1,5), columns=['sistema','Trial','Paid','Total'])\n",
        "display(df)"
      ],
      "execution_count": null,
      "outputs": [
        {
          "output_type": "display_data",
          "data": {
            "text/html": [
              "<div>\n",
              "<style scoped>\n",
              "    .dataframe tbody tr th:only-of-type {\n",
              "        vertical-align: middle;\n",
              "    }\n",
              "\n",
              "    .dataframe tbody tr th {\n",
              "        vertical-align: top;\n",
              "    }\n",
              "\n",
              "    .dataframe thead th {\n",
              "        text-align: right;\n",
              "    }\n",
              "</style>\n",
              "<table border=\"1\" class=\"dataframe\">\n",
              "  <thead>\n",
              "    <tr style=\"text-align: right;\">\n",
              "      <th></th>\n",
              "      <th>sistema</th>\n",
              "      <th>Trial</th>\n",
              "      <th>Paid</th>\n",
              "      <th>Total</th>\n",
              "    </tr>\n",
              "  </thead>\n",
              "  <tbody>\n",
              "    <tr>\n",
              "      <th>1</th>\n",
              "      <td>android</td>\n",
              "      <td>224776</td>\n",
              "      <td>6488</td>\n",
              "      <td>231264</td>\n",
              "    </tr>\n",
              "    <tr>\n",
              "      <th>2</th>\n",
              "      <td>ios</td>\n",
              "      <td>74818</td>\n",
              "      <td>5536</td>\n",
              "      <td>80354</td>\n",
              "    </tr>\n",
              "    <tr>\n",
              "      <th>3</th>\n",
              "      <td>kyte_web</td>\n",
              "      <td>54779</td>\n",
              "      <td>3126</td>\n",
              "      <td>57905</td>\n",
              "    </tr>\n",
              "    <tr>\n",
              "      <th>4</th>\n",
              "      <td>web</td>\n",
              "      <td>100</td>\n",
              "      <td>0</td>\n",
              "      <td>100</td>\n",
              "    </tr>\n",
              "  </tbody>\n",
              "</table>\n",
              "</div>"
            ],
            "text/plain": [
              "    sistema   Trial  Paid   Total\n",
              "1   android  224776  6488  231264\n",
              "2       ios   74818  5536   80354\n",
              "3  kyte_web   54779  3126   57905\n",
              "4       web     100     0     100"
            ]
          },
          "metadata": {}
        }
      ]
    },
    {
      "cell_type": "markdown",
      "metadata": {
        "id": "sAdfcl1A3Ktg"
      },
      "source": [
        "#Android \n"
      ]
    },
    {
      "cell_type": "code",
      "metadata": {
        "colab": {
          "base_uri": "https://localhost:8080/",
          "height": 80
        },
        "id": "lIXfWKXL2uni",
        "outputId": "7162c0ab-d57c-430e-fb99-87de303eef64"
      },
      "source": [
        "android = df.loc[df['sistema']=='android']\n",
        "display(android)"
      ],
      "execution_count": null,
      "outputs": [
        {
          "output_type": "display_data",
          "data": {
            "text/html": [
              "<div>\n",
              "<style scoped>\n",
              "    .dataframe tbody tr th:only-of-type {\n",
              "        vertical-align: middle;\n",
              "    }\n",
              "\n",
              "    .dataframe tbody tr th {\n",
              "        vertical-align: top;\n",
              "    }\n",
              "\n",
              "    .dataframe thead th {\n",
              "        text-align: right;\n",
              "    }\n",
              "</style>\n",
              "<table border=\"1\" class=\"dataframe\">\n",
              "  <thead>\n",
              "    <tr style=\"text-align: right;\">\n",
              "      <th></th>\n",
              "      <th>sistema</th>\n",
              "      <th>Trial</th>\n",
              "      <th>Paid</th>\n",
              "      <th>Total</th>\n",
              "    </tr>\n",
              "  </thead>\n",
              "  <tbody>\n",
              "    <tr>\n",
              "      <th>1</th>\n",
              "      <td>android</td>\n",
              "      <td>224776</td>\n",
              "      <td>6488</td>\n",
              "      <td>231264</td>\n",
              "    </tr>\n",
              "  </tbody>\n",
              "</table>\n",
              "</div>"
            ],
            "text/plain": [
              "   sistema   Trial  Paid   Total\n",
              "1  android  224776  6488  231264"
            ]
          },
          "metadata": {}
        }
      ]
    },
    {
      "cell_type": "code",
      "metadata": {
        "colab": {
          "base_uri": "https://localhost:8080/",
          "height": 596
        },
        "id": "4FZwGlMG48oG",
        "outputId": "da8a1b56-1587-4273-d73e-0ad2912cacb2"
      },
      "source": [
        "rotulos = ['android_trial','android_paid']\n",
        "valores = ['224776','6488']\n",
        "explode = (0,0.5)\n",
        "plt.figure(figsize=(10,10))\n",
        "plt.pie(x=valores, labels=rotulos,autopct='%1.1f%%', explode = explode, shadow= True, colors=colors, wedgeprops={'edgecolor':'black'},textprops=dict(color=\"w\"))\n",
        "plt.tight_layout()\n",
        "plt.legend(ncol=1,loc=8)\n",
        "plt.title('ANDROID', size =20,fontweight='bold')\n",
        "plt.show()"
      ],
      "execution_count": null,
      "outputs": [
        {
          "output_type": "display_data",
          "data": {
            "image/png": "[encoded data removed]",
            "text/plain": [
              "<Figure size 720x720 with 1 Axes>"
            ]
          },
          "metadata": {}
        }
      ]
    },
    {
      "cell_type": "markdown",
      "metadata": {
        "id": "0KPRGze88c9_"
      },
      "source": [
        "#IOS"
      ]
    },
    {
      "cell_type": "code",
      "metadata": {
        "colab": {
          "base_uri": "https://localhost:8080/",
          "height": 80
        },
        "id": "Bv2XbOaZ8h29",
        "outputId": "b034fac6-61ae-430e-f7a7-cfa3bbaec705"
      },
      "source": [
        "android = df.loc[df['sistema']=='ios']\n",
        "display(android)"
      ],
      "execution_count": null,
      "outputs": [
        {
          "output_type": "display_data",
          "data": {
            "text/html": [
              "<div>\n",
              "<style scoped>\n",
              "    .dataframe tbody tr th:only-of-type {\n",
              "        vertical-align: middle;\n",
              "    }\n",
              "\n",
              "    .dataframe tbody tr th {\n",
              "        vertical-align: top;\n",
              "    }\n",
              "\n",
              "    .dataframe thead th {\n",
              "        text-align: right;\n",
              "    }\n",
              "</style>\n",
              "<table border=\"1\" class=\"dataframe\">\n",
              "  <thead>\n",
              "    <tr style=\"text-align: right;\">\n",
              "      <th></th>\n",
              "      <th>sistema</th>\n",
              "      <th>Trial</th>\n",
              "      <th>Paid</th>\n",
              "      <th>Total</th>\n",
              "    </tr>\n",
              "  </thead>\n",
              "  <tbody>\n",
              "    <tr>\n",
              "      <th>2</th>\n",
              "      <td>ios</td>\n",
              "      <td>74818</td>\n",
              "      <td>5536</td>\n",
              "      <td>80354</td>\n",
              "    </tr>\n",
              "  </tbody>\n",
              "</table>\n",
              "</div>"
            ],
            "text/plain": [
              "  sistema  Trial  Paid  Total\n",
              "2     ios  74818  5536  80354"
            ]
          },
          "metadata": {}
        }
      ]
    },
    {
      "cell_type": "code",
      "metadata": {
        "colab": {
          "base_uri": "https://localhost:8080/",
          "height": 649
        },
        "id": "ZBIZIVKJ8nIg",
        "outputId": "840841a9-cca8-4f72-9666-68d0bdbd8f7c"
      },
      "source": [
        "rotulos = ['ios_trial','ios_paid']\n",
        "valores = ['74818','5536']\n",
        "explode = (0,0.5)\n",
        "plt.figure(figsize=(10,10))\n",
        "plt.pie(x=valores, labels=rotulos,autopct='%1.1f%%', explode = explode, shadow= True, colors=colors, wedgeprops={'edgecolor':'black'},textprops=dict(color=\"w\"))\n",
        "plt.tight_layout()\n",
        "plt.legend(ncol=1,loc=8)\n",
        "plt.title('IOS', size =20,fontweight='bold')\n",
        "plt.show()"
      ],
      "execution_count": null,
      "outputs": [
        {
          "output_type": "display_data",
          "data": {
            "image/png": "[encoded data removed]",
            "text/plain": [
              "<Figure size 720x720 with 1 Axes>"
            ]
          },
          "metadata": {}
        }
      ]
    },
    {
      "cell_type": "markdown",
      "metadata": {
        "id": "8f-RzSAP84f9"
      },
      "source": [
        "#KYTE_WEB"
      ]
    },
    {
      "cell_type": "code",
      "metadata": {
        "colab": {
          "base_uri": "https://localhost:8080/",
          "height": 80
        },
        "id": "DhZJKGQe88a2",
        "outputId": "d368232d-f387-44ee-f3dd-8628fa92254e"
      },
      "source": [
        "android = df.loc[df['sistema']=='kyte_web']\n",
        "display(android)"
      ],
      "execution_count": null,
      "outputs": [
        {
          "output_type": "display_data",
          "data": {
            "text/html": [
              "<div>\n",
              "<style scoped>\n",
              "    .dataframe tbody tr th:only-of-type {\n",
              "        vertical-align: middle;\n",
              "    }\n",
              "\n",
              "    .dataframe tbody tr th {\n",
              "        vertical-align: top;\n",
              "    }\n",
              "\n",
              "    .dataframe thead th {\n",
              "        text-align: right;\n",
              "    }\n",
              "</style>\n",
              "<table border=\"1\" class=\"dataframe\">\n",
              "  <thead>\n",
              "    <tr style=\"text-align: right;\">\n",
              "      <th></th>\n",
              "      <th>sistema</th>\n",
              "      <th>Trial</th>\n",
              "      <th>Paid</th>\n",
              "      <th>Total</th>\n",
              "    </tr>\n",
              "  </thead>\n",
              "  <tbody>\n",
              "    <tr>\n",
              "      <th>3</th>\n",
              "      <td>kyte_web</td>\n",
              "      <td>54779</td>\n",
              "      <td>3126</td>\n",
              "      <td>57905</td>\n",
              "    </tr>\n",
              "  </tbody>\n",
              "</table>\n",
              "</div>"
            ],
            "text/plain": [
              "    sistema  Trial  Paid  Total\n",
              "3  kyte_web  54779  3126  57905"
            ]
          },
          "metadata": {}
        }
      ]
    },
    {
      "cell_type": "code",
      "metadata": {
        "colab": {
          "base_uri": "https://localhost:8080/",
          "height": 584
        },
        "id": "rhpOHqYx9B3p",
        "outputId": "2dbdb54c-8956-4dad-b989-e0443133728d"
      },
      "source": [
        "rotulos = ['kyte_web_trial','kyte_web_paid']\n",
        "valores = ['54779','3126']\n",
        "explode = (0,0.5)\n",
        "plt.figure(figsize=(10,10))\n",
        "plt.pie(x=valores, labels=rotulos,autopct='%1.1f%%', explode = explode, shadow= True, colors=colors, wedgeprops={'edgecolor':'black'},textprops=dict(color=\"w\"))\n",
        "plt.tight_layout()\n",
        "plt.legend(ncol=1,loc=8)\n",
        "plt.title('KYTE_WEB', size =20,fontweight='bold')\n",
        "plt.show()"
      ],
      "execution_count": null,
      "outputs": [
        {
          "output_type": "display_data",
          "data": {
            "image/png": "[encoded data removed]",
            "text/plain": [
              "<Figure size 720x720 with 1 Axes>"
            ]
          },
          "metadata": {}
        }
      ]
    },
    {
      "cell_type": "markdown",
      "metadata": {
        "id": "9d_L5FsP9zee"
      },
      "source": [
        "#WEB"
      ]
    },
    {
      "cell_type": "code",
      "metadata": {
        "colab": {
          "base_uri": "https://localhost:8080/",
          "height": 80
        },
        "id": "V1Y_o2KT91CS",
        "outputId": "c4a8b857-9e58-4be2-a13c-8d746b91dc16"
      },
      "source": [
        "android = df.loc[df['sistema']=='web']\n",
        "display(android)"
      ],
      "execution_count": null,
      "outputs": [
        {
          "output_type": "display_data",
          "data": {
            "text/html": [
              "<div>\n",
              "<style scoped>\n",
              "    .dataframe tbody tr th:only-of-type {\n",
              "        vertical-align: middle;\n",
              "    }\n",
              "\n",
              "    .dataframe tbody tr th {\n",
              "        vertical-align: top;\n",
              "    }\n",
              "\n",
              "    .dataframe thead th {\n",
              "        text-align: right;\n",
              "    }\n",
              "</style>\n",
              "<table border=\"1\" class=\"dataframe\">\n",
              "  <thead>\n",
              "    <tr style=\"text-align: right;\">\n",
              "      <th></th>\n",
              "      <th>sistema</th>\n",
              "      <th>Trial</th>\n",
              "      <th>Paid</th>\n",
              "      <th>Total</th>\n",
              "    </tr>\n",
              "  </thead>\n",
              "  <tbody>\n",
              "    <tr>\n",
              "      <th>4</th>\n",
              "      <td>web</td>\n",
              "      <td>100</td>\n",
              "      <td>0</td>\n",
              "      <td>100</td>\n",
              "    </tr>\n",
              "  </tbody>\n",
              "</table>\n",
              "</div>"
            ],
            "text/plain": [
              "  sistema  Trial  Paid  Total\n",
              "4     web    100     0    100"
            ]
          },
          "metadata": {}
        }
      ]
    },
    {
      "cell_type": "code",
      "metadata": {
        "colab": {
          "base_uri": "https://localhost:8080/",
          "height": 737
        },
        "id": "lUP_p3iH96uy",
        "outputId": "4c4b05e7-0b2f-47fb-981f-b7fd52f4bc2a"
      },
      "source": [
        "rotulos = ['web_trial','web_paid']\n",
        "valores = ['100','0']\n",
        "explode = (0,0.5)\n",
        "plt.figure(figsize=(10,10))\n",
        "plt.pie(x=valores, labels=rotulos,autopct='%1.1f%%',  shadow= True,colors=colors,textprops=dict(color=\"w\") )\n",
        "plt.tight_layout()\n",
        "plt.title('WEB', size =20,fontweight='bold')\n",
        "plt.legend(ncol=1,loc=8)\n",
        "plt.show()"
      ],
      "execution_count": null,
      "outputs": [
        {
          "output_type": "display_data",
          "data": {
            "image/png": "[encoded data removed]",
            "text/plain": [
              "<Figure size 720x720 with 1 Axes>"
            ]
          },
          "metadata": {}
        }
      ]
    },
    {
      "cell_type": "markdown",
      "metadata": {
        "id": "Xac-OViUUGIa"
      },
      "source": [
        "#MÉTODOS DE PAGAMENTOS MAIS UTILADOS"
      ]
    },
    {
      "cell_type": "code",
      "metadata": {
        "colab": {
          "base_uri": "https://localhost:8080/"
        },
        "id": "TwLSey6UAxiU",
        "outputId": "62708c9c-8c68-4c75-9666-4eca0fa145bf"
      },
      "source": [
        "tabela['Tipo_Pagamento'].value_counts()"
      ],
      "execution_count": null,
      "outputs": [
        {
          "output_type": "execute_result",
          "data": {
            "text/plain": [
              "stripe    7196\n",
              "apple     4854\n",
              "asaas     2143\n",
              "ebanx      535\n",
              "paypal     356\n",
              "google       2\n",
              "Name: Tipo_Pagamento, dtype: int64"
            ]
          },
          "metadata": {},
          "execution_count": 615
        }
      ]
    },
    {
      "cell_type": "code",
      "metadata": {
        "colab": {
          "base_uri": "https://localhost:8080/",
          "height": 597
        },
        "id": "fQkPLaDk_35n",
        "outputId": "ec09e903-efde-4160-d1d7-a10ef7e26a78"
      },
      "source": [
        "rotulos = ['stripe','apple','asaas','ebanx','paypal','google']\n",
        "valores = [7196,4854,2143,535,356,2]\n",
        "plt.figure(figsize=(10,10))\n",
        "explode = (0.06,0.05,0.04,0.03,0.02,0.01)\n",
        "plt.pie(sizes, colors = colors, autopct='%1.1f%%', startangle=90, \n",
        "        pctdistance=0.85, explode = explode,\n",
        "        wedgeprops={'edgecolor':'black'},textprops=dict(color=\"w\"))\n",
        "centre_circle = plt.Circle((0,0),0.70,fc='white')\n",
        "fig = plt.gcf()\n",
        "fig.gca().add_artist(centre_circle)\n",
        "plt.title('Métodos de pagamentos mais utilizados', size = 20,fontweight='bold')\n",
        "plt.legend(labels=rotulos,ncol=3,loc=8, frameon=True)\n",
        "plt.show()"
      ],
      "execution_count": null,
      "outputs": [
        {
          "output_type": "display_data",
          "data": {
            "image/png": "[encoded data removed]",
            "text/plain": [
              "<Figure size 720x720 with 1 Axes>"
            ]
          },
          "metadata": {}
        }
      ]
    },
    {
      "cell_type": "markdown",
      "metadata": {
        "id": "Dgp4MtXeVmDa"
      },
      "source": [
        "#IDENTIFICÃO DOS USUÁRIOS"
      ]
    },
    {
      "cell_type": "code",
      "metadata": {
        "colab": {
          "base_uri": "https://localhost:8080/"
        },
        "id": "qBGDSDOIRXa1",
        "outputId": "47389eae-18d0-43f5-c92a-909508a11636"
      },
      "source": [
        "tabela['Tipo_Identidade'].value_counts()"
      ],
      "execution_count": null,
      "outputs": [
        {
          "output_type": "execute_result",
          "data": {
            "text/plain": [
              "cpf     52078\n",
              "int     26547\n",
              "cnpj    10900\n",
              "Name: Tipo_Identidade, dtype: int64"
            ]
          },
          "metadata": {},
          "execution_count": 617
        }
      ]
    },
    {
      "cell_type": "code",
      "metadata": {
        "colab": {
          "base_uri": "https://localhost:8080/",
          "height": 614
        },
        "id": "iPTR_s_qV7XV",
        "outputId": "86cd9422-eb0b-4e9c-de50-f85ad631a5ae"
      },
      "source": [
        "rotulos = ['CPF', 'INT', 'CNPJ']\n",
        "valores = [52078, 26547, 10900]\n",
        "colors = [\"#20257c\", \"#424ad1\", \"#6a8ee8\"]\n",
        "plt.figure(figsize=(10,10))\n",
        "plt.bar(rotulos,valores, color = colors,edgecolor ='black', linewidth = 2)\n",
        "plt.title('Métodos de pagamentos mais utilizados', fontsize= 20,\n",
        "          fontweight='bold')\n",
        "plt.ylabel('Quantidade de métodos de pagamentos',fontsize= 20)\n",
        "plt.show()"
      ],
      "execution_count": 627,
      "outputs": [
        {
          "output_type": "display_data",
          "data": {
            "image/png": "[encoded data removed]",
            "text/plain": [
              "<Figure size 720x720 with 1 Axes>"
            ]
          },
          "metadata": {
            "needs_background": "light"
          }
        }
      ]
    },
    {
      "cell_type": "code",
      "metadata": {
        "id": "YAWUZXLMsXQ-"
      },
      "source": [
        ""
      ],
      "execution_count": null,
      "outputs": []
    }
  ]
}