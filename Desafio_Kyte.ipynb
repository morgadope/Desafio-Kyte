{
  "nbformat": 4,
  "nbformat_minor": 2,
  "metadata": {
    "colab": {
      "name": "Desafio_Kyte.ipynb",
      "provenance": [],
      "collapsed_sections": []
    },
    "kernelspec": {
      "name": "python3",
      "display_name": "Python 3"
    },
    "language_info": {
      "name": "python"
    }
  },
  "cells": [
    {
      "cell_type": "markdown",
      "source": [
        "#**DESAFIO**\r\n",
        "![Kyte Logo.png](data:image/png;base64,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)\r\n",
        "## Nessa análise os valores foram obtidos, retirando somente as linhas que possuem todos os valores vazios."
      ],
      "metadata": {
        "id": "WWaXIHT-0eeW"
      }
    },
    {
      "cell_type": "markdown",
      "source": [
        "#IMPORTANDO BIBLIOTECAS "
      ],
      "metadata": {
        "id": "4wU3Sn-tCMcN"
      }
    },
    {
      "cell_type": "code",
      "execution_count": 2,
      "source": [
        "import pandas as pd\r\n",
        "import matplotlib.pyplot as plt\r\n",
        "import numpy as np\r\n"
      ],
      "outputs": [],
      "metadata": {
        "id": "Jp3lhtVclxo3"
      }
    },
    {
      "cell_type": "markdown",
      "source": [
        "#CARREGANDO DADOS"
      ],
      "metadata": {
        "id": "cpteVyTLCSGT"
      }
    },
    {
      "cell_type": "code",
      "execution_count": null,
      "source": [
        "tabela = pd.read_csv('/content/Base_Teste_Estagio.xls')\r\n",
        "display(tabela)"
      ],
      "outputs": [
        {
          "output_type": "display_data",
          "data": {
            "text/html": [
              "<div>\n",
              "<style scoped>\n",
              "    .dataframe tbody tr th:only-of-type {\n",
              "        vertical-align: middle;\n",
              "    }\n",
              "\n",
              "    .dataframe tbody tr th {\n",
              "        vertical-align: top;\n",
              "    }\n",
              "\n",
              "    .dataframe thead th {\n",
              "        text-align: right;\n",
              "    }\n",
              "</style>\n",
              "<table border=\"1\" class=\"dataframe\">\n",
              "  <thead>\n",
              "    <tr style=\"text-align: right;\">\n",
              "      <th></th>\n",
              "      <th>ID</th>\n",
              "      <th>Tipo_Identidade</th>\n",
              "      <th>Status_Plano</th>\n",
              "      <th>Sistema_Operacional</th>\n",
              "      <th>Recorrência</th>\n",
              "      <th>Tipo_Pagamento</th>\n",
              "      <th>Data_Criacao</th>\n",
              "      <th>Data_Compra</th>\n",
              "    </tr>\n",
              "  </thead>\n",
              "  <tbody>\n",
              "    <tr>\n",
              "      <th>0</th>\n",
              "      <td>5hhLsLAf14Nmlu</td>\n",
              "      <td>cnpj</td>\n",
              "      <td>trial</td>\n",
              "      <td>android</td>\n",
              "      <td>NaN</td>\n",
              "      <td>NaN</td>\n",
              "      <td>2021-06-02 22:58:51.000</td>\n",
              "      <td>NaN</td>\n",
              "    </tr>\n",
              "    <tr>\n",
              "      <th>1</th>\n",
              "      <td>nXkrWYSq6KciuW</td>\n",
              "      <td>NaN</td>\n",
              "      <td>trial</td>\n",
              "      <td>web</td>\n",
              "      <td>NaN</td>\n",
              "      <td>NaN</td>\n",
              "      <td>2021-08-08 19:40:06.000</td>\n",
              "      <td>NaN</td>\n",
              "    </tr>\n",
              "    <tr>\n",
              "      <th>2</th>\n",
              "      <td>djBEsGHI8lPt3F</td>\n",
              "      <td>cnpj</td>\n",
              "      <td>trial</td>\n",
              "      <td>ios</td>\n",
              "      <td>NaN</td>\n",
              "      <td>NaN</td>\n",
              "      <td>2021-06-09 22:50:22.000</td>\n",
              "      <td>NaN</td>\n",
              "    </tr>\n",
              "    <tr>\n",
              "      <th>3</th>\n",
              "      <td>9f89gMGdz0U4l3</td>\n",
              "      <td>NaN</td>\n",
              "      <td>trial</td>\n",
              "      <td>android</td>\n",
              "      <td>NaN</td>\n",
              "      <td>NaN</td>\n",
              "      <td>2021-05-01 17:32:09.000</td>\n",
              "      <td>NaN</td>\n",
              "    </tr>\n",
              "    <tr>\n",
              "      <th>4</th>\n",
              "      <td>UmmJb0tijBSTCC</td>\n",
              "      <td>NaN</td>\n",
              "      <td>trial</td>\n",
              "      <td>android</td>\n",
              "      <td>NaN</td>\n",
              "      <td>NaN</td>\n",
              "      <td>2021-06-20 08:27:29.000</td>\n",
              "      <td>NaN</td>\n",
              "    </tr>\n",
              "    <tr>\n",
              "      <th>...</th>\n",
              "      <td>...</td>\n",
              "      <td>...</td>\n",
              "      <td>...</td>\n",
              "      <td>...</td>\n",
              "      <td>...</td>\n",
              "      <td>...</td>\n",
              "      <td>...</td>\n",
              "      <td>...</td>\n",
              "    </tr>\n",
              "    <tr>\n",
              "      <th>369625</th>\n",
              "      <td>mDF8bIXIlZdzOY</td>\n",
              "      <td>int</td>\n",
              "      <td>trial</td>\n",
              "      <td>ios</td>\n",
              "      <td>NaN</td>\n",
              "      <td>NaN</td>\n",
              "      <td>2021-07-25 01:02:28.000</td>\n",
              "      <td>NaN</td>\n",
              "    </tr>\n",
              "    <tr>\n",
              "      <th>369626</th>\n",
              "      <td>mDF8bIXIlZdzOY</td>\n",
              "      <td>int</td>\n",
              "      <td>trial</td>\n",
              "      <td>web</td>\n",
              "      <td>NaN</td>\n",
              "      <td>NaN</td>\n",
              "      <td>2021-07-25 13:32:15.000</td>\n",
              "      <td>NaN</td>\n",
              "    </tr>\n",
              "    <tr>\n",
              "      <th>369627</th>\n",
              "      <td>mDF8bIXIlZdzOY</td>\n",
              "      <td>int</td>\n",
              "      <td>trial</td>\n",
              "      <td>web</td>\n",
              "      <td>NaN</td>\n",
              "      <td>NaN</td>\n",
              "      <td>2021-07-25 13:31:46.000</td>\n",
              "      <td>NaN</td>\n",
              "    </tr>\n",
              "    <tr>\n",
              "      <th>369628</th>\n",
              "      <td>mDF8bIXIlZdzOY</td>\n",
              "      <td>int</td>\n",
              "      <td>trial</td>\n",
              "      <td>web</td>\n",
              "      <td>NaN</td>\n",
              "      <td>NaN</td>\n",
              "      <td>2021-07-25 13:31:41.000</td>\n",
              "      <td>NaN</td>\n",
              "    </tr>\n",
              "    <tr>\n",
              "      <th>369629</th>\n",
              "      <td>Lv3etATFkdUZg6</td>\n",
              "      <td>NaN</td>\n",
              "      <td>trial</td>\n",
              "      <td>web</td>\n",
              "      <td>NaN</td>\n",
              "      <td>NaN</td>\n",
              "      <td>2021-06-04 18:17:47.000</td>\n",
              "      <td>NaN</td>\n",
              "    </tr>\n",
              "  </tbody>\n",
              "</table>\n",
              "<p>369630 rows × 8 columns</p>\n",
              "</div>"
            ],
            "text/plain": [
              "                    ID Tipo_Identidade  ...             Data_Criacao Data_Compra\n",
              "0       5hhLsLAf14Nmlu            cnpj  ...  2021-06-02 22:58:51.000         NaN\n",
              "1       nXkrWYSq6KciuW             NaN  ...  2021-08-08 19:40:06.000         NaN\n",
              "2       djBEsGHI8lPt3F            cnpj  ...  2021-06-09 22:50:22.000         NaN\n",
              "3       9f89gMGdz0U4l3             NaN  ...  2021-05-01 17:32:09.000         NaN\n",
              "4       UmmJb0tijBSTCC             NaN  ...  2021-06-20 08:27:29.000         NaN\n",
              "...                ...             ...  ...                      ...         ...\n",
              "369625  mDF8bIXIlZdzOY             int  ...  2021-07-25 01:02:28.000         NaN\n",
              "369626  mDF8bIXIlZdzOY             int  ...  2021-07-25 13:32:15.000         NaN\n",
              "369627  mDF8bIXIlZdzOY             int  ...  2021-07-25 13:31:46.000         NaN\n",
              "369628  mDF8bIXIlZdzOY             int  ...  2021-07-25 13:31:41.000         NaN\n",
              "369629  Lv3etATFkdUZg6             NaN  ...  2021-06-04 18:17:47.000         NaN\n",
              "\n",
              "[369630 rows x 8 columns]"
            ]
          },
          "metadata": {}
        }
      ],
      "metadata": {
        "colab": {
          "base_uri": "https://localhost:8080/",
          "height": 417
        },
        "id": "ycTm4VM0suHI",
        "outputId": "adc85e30-6edb-494a-9487-f46bb4f86397"
      }
    },
    {
      "cell_type": "markdown",
      "source": [
        "#Tratando os dados"
      ],
      "metadata": {
        "id": "b1JISgzsFXq9"
      }
    },
    {
      "cell_type": "code",
      "execution_count": null,
      "source": [
        "tabela.dropna(how='all') # Exclui as colunas que tem todos os valores faltando \"NAN\""
      ],
      "outputs": [
        {
          "output_type": "execute_result",
          "data": {
            "text/html": [
              "<div>\n",
              "<style scoped>\n",
              "    .dataframe tbody tr th:only-of-type {\n",
              "        vertical-align: middle;\n",
              "    }\n",
              "\n",
              "    .dataframe tbody tr th {\n",
              "        vertical-align: top;\n",
              "    }\n",
              "\n",
              "    .dataframe thead th {\n",
              "        text-align: right;\n",
              "    }\n",
              "</style>\n",
              "<table border=\"1\" class=\"dataframe\">\n",
              "  <thead>\n",
              "    <tr style=\"text-align: right;\">\n",
              "      <th></th>\n",
              "      <th>ID</th>\n",
              "      <th>Tipo_Identidade</th>\n",
              "      <th>Status_Plano</th>\n",
              "      <th>Sistema_Operacional</th>\n",
              "      <th>Recorrência</th>\n",
              "      <th>Tipo_Pagamento</th>\n",
              "      <th>Data_Criacao</th>\n",
              "      <th>Data_Compra</th>\n",
              "    </tr>\n",
              "  </thead>\n",
              "  <tbody>\n",
              "    <tr>\n",
              "      <th>0</th>\n",
              "      <td>5hhLsLAf14Nmlu</td>\n",
              "      <td>cnpj</td>\n",
              "      <td>trial</td>\n",
              "      <td>android</td>\n",
              "      <td>NaN</td>\n",
              "      <td>NaN</td>\n",
              "      <td>2021-06-02 22:58:51.000</td>\n",
              "      <td>NaN</td>\n",
              "    </tr>\n",
              "    <tr>\n",
              "      <th>1</th>\n",
              "      <td>nXkrWYSq6KciuW</td>\n",
              "      <td>NaN</td>\n",
              "      <td>trial</td>\n",
              "      <td>web</td>\n",
              "      <td>NaN</td>\n",
              "      <td>NaN</td>\n",
              "      <td>2021-08-08 19:40:06.000</td>\n",
              "      <td>NaN</td>\n",
              "    </tr>\n",
              "    <tr>\n",
              "      <th>2</th>\n",
              "      <td>djBEsGHI8lPt3F</td>\n",
              "      <td>cnpj</td>\n",
              "      <td>trial</td>\n",
              "      <td>ios</td>\n",
              "      <td>NaN</td>\n",
              "      <td>NaN</td>\n",
              "      <td>2021-06-09 22:50:22.000</td>\n",
              "      <td>NaN</td>\n",
              "    </tr>\n",
              "    <tr>\n",
              "      <th>3</th>\n",
              "      <td>9f89gMGdz0U4l3</td>\n",
              "      <td>NaN</td>\n",
              "      <td>trial</td>\n",
              "      <td>android</td>\n",
              "      <td>NaN</td>\n",
              "      <td>NaN</td>\n",
              "      <td>2021-05-01 17:32:09.000</td>\n",
              "      <td>NaN</td>\n",
              "    </tr>\n",
              "    <tr>\n",
              "      <th>4</th>\n",
              "      <td>UmmJb0tijBSTCC</td>\n",
              "      <td>NaN</td>\n",
              "      <td>trial</td>\n",
              "      <td>android</td>\n",
              "      <td>NaN</td>\n",
              "      <td>NaN</td>\n",
              "      <td>2021-06-20 08:27:29.000</td>\n",
              "      <td>NaN</td>\n",
              "    </tr>\n",
              "    <tr>\n",
              "      <th>...</th>\n",
              "      <td>...</td>\n",
              "      <td>...</td>\n",
              "      <td>...</td>\n",
              "      <td>...</td>\n",
              "      <td>...</td>\n",
              "      <td>...</td>\n",
              "      <td>...</td>\n",
              "      <td>...</td>\n",
              "    </tr>\n",
              "    <tr>\n",
              "      <th>369625</th>\n",
              "      <td>mDF8bIXIlZdzOY</td>\n",
              "      <td>int</td>\n",
              "      <td>trial</td>\n",
              "      <td>ios</td>\n",
              "      <td>NaN</td>\n",
              "      <td>NaN</td>\n",
              "      <td>2021-07-25 01:02:28.000</td>\n",
              "      <td>NaN</td>\n",
              "    </tr>\n",
              "    <tr>\n",
              "      <th>369626</th>\n",
              "      <td>mDF8bIXIlZdzOY</td>\n",
              "      <td>int</td>\n",
              "      <td>trial</td>\n",
              "      <td>web</td>\n",
              "      <td>NaN</td>\n",
              "      <td>NaN</td>\n",
              "      <td>2021-07-25 13:32:15.000</td>\n",
              "      <td>NaN</td>\n",
              "    </tr>\n",
              "    <tr>\n",
              "      <th>369627</th>\n",
              "      <td>mDF8bIXIlZdzOY</td>\n",
              "      <td>int</td>\n",
              "      <td>trial</td>\n",
              "      <td>web</td>\n",
              "      <td>NaN</td>\n",
              "      <td>NaN</td>\n",
              "      <td>2021-07-25 13:31:46.000</td>\n",
              "      <td>NaN</td>\n",
              "    </tr>\n",
              "    <tr>\n",
              "      <th>369628</th>\n",
              "      <td>mDF8bIXIlZdzOY</td>\n",
              "      <td>int</td>\n",
              "      <td>trial</td>\n",
              "      <td>web</td>\n",
              "      <td>NaN</td>\n",
              "      <td>NaN</td>\n",
              "      <td>2021-07-25 13:31:41.000</td>\n",
              "      <td>NaN</td>\n",
              "    </tr>\n",
              "    <tr>\n",
              "      <th>369629</th>\n",
              "      <td>Lv3etATFkdUZg6</td>\n",
              "      <td>NaN</td>\n",
              "      <td>trial</td>\n",
              "      <td>web</td>\n",
              "      <td>NaN</td>\n",
              "      <td>NaN</td>\n",
              "      <td>2021-06-04 18:17:47.000</td>\n",
              "      <td>NaN</td>\n",
              "    </tr>\n",
              "  </tbody>\n",
              "</table>\n",
              "<p>369630 rows × 8 columns</p>\n",
              "</div>"
            ],
            "text/plain": [
              "                    ID Tipo_Identidade  ...             Data_Criacao Data_Compra\n",
              "0       5hhLsLAf14Nmlu            cnpj  ...  2021-06-02 22:58:51.000         NaN\n",
              "1       nXkrWYSq6KciuW             NaN  ...  2021-08-08 19:40:06.000         NaN\n",
              "2       djBEsGHI8lPt3F            cnpj  ...  2021-06-09 22:50:22.000         NaN\n",
              "3       9f89gMGdz0U4l3             NaN  ...  2021-05-01 17:32:09.000         NaN\n",
              "4       UmmJb0tijBSTCC             NaN  ...  2021-06-20 08:27:29.000         NaN\n",
              "...                ...             ...  ...                      ...         ...\n",
              "369625  mDF8bIXIlZdzOY             int  ...  2021-07-25 01:02:28.000         NaN\n",
              "369626  mDF8bIXIlZdzOY             int  ...  2021-07-25 13:32:15.000         NaN\n",
              "369627  mDF8bIXIlZdzOY             int  ...  2021-07-25 13:31:46.000         NaN\n",
              "369628  mDF8bIXIlZdzOY             int  ...  2021-07-25 13:31:41.000         NaN\n",
              "369629  Lv3etATFkdUZg6             NaN  ...  2021-06-04 18:17:47.000         NaN\n",
              "\n",
              "[369630 rows x 8 columns]"
            ]
          },
          "metadata": {},
          "execution_count": 590
        }
      ],
      "metadata": {
        "colab": {
          "base_uri": "https://localhost:8080/",
          "height": 417
        },
        "id": "xXINIhEWs3Yj",
        "outputId": "47b66284-e1df-4a76-fad9-827b32cb3115"
      }
    },
    {
      "cell_type": "code",
      "execution_count": null,
      "source": [
        "tabela = tabela.dropna(how='all') \r\n",
        "display(tabela)"
      ],
      "outputs": [
        {
          "output_type": "display_data",
          "data": {
            "text/html": [
              "<div>\n",
              "<style scoped>\n",
              "    .dataframe tbody tr th:only-of-type {\n",
              "        vertical-align: middle;\n",
              "    }\n",
              "\n",
              "    .dataframe tbody tr th {\n",
              "        vertical-align: top;\n",
              "    }\n",
              "\n",
              "    .dataframe thead th {\n",
              "        text-align: right;\n",
              "    }\n",
              "</style>\n",
              "<table border=\"1\" class=\"dataframe\">\n",
              "  <thead>\n",
              "    <tr style=\"text-align: right;\">\n",
              "      <th></th>\n",
              "      <th>ID</th>\n",
              "      <th>Tipo_Identidade</th>\n",
              "      <th>Status_Plano</th>\n",
              "      <th>Sistema_Operacional</th>\n",
              "      <th>Recorrência</th>\n",
              "      <th>Tipo_Pagamento</th>\n",
              "      <th>Data_Criacao</th>\n",
              "      <th>Data_Compra</th>\n",
              "    </tr>\n",
              "  </thead>\n",
              "  <tbody>\n",
              "    <tr>\n",
              "      <th>0</th>\n",
              "      <td>5hhLsLAf14Nmlu</td>\n",
              "      <td>cnpj</td>\n",
              "      <td>trial</td>\n",
              "      <td>android</td>\n",
              "      <td>NaN</td>\n",
              "      <td>NaN</td>\n",
              "      <td>2021-06-02 22:58:51.000</td>\n",
              "      <td>NaN</td>\n",
              "    </tr>\n",
              "    <tr>\n",
              "      <th>1</th>\n",
              "      <td>nXkrWYSq6KciuW</td>\n",
              "      <td>NaN</td>\n",
              "      <td>trial</td>\n",
              "      <td>web</td>\n",
              "      <td>NaN</td>\n",
              "      <td>NaN</td>\n",
              "      <td>2021-08-08 19:40:06.000</td>\n",
              "      <td>NaN</td>\n",
              "    </tr>\n",
              "    <tr>\n",
              "      <th>2</th>\n",
              "      <td>djBEsGHI8lPt3F</td>\n",
              "      <td>cnpj</td>\n",
              "      <td>trial</td>\n",
              "      <td>ios</td>\n",
              "      <td>NaN</td>\n",
              "      <td>NaN</td>\n",
              "      <td>2021-06-09 22:50:22.000</td>\n",
              "      <td>NaN</td>\n",
              "    </tr>\n",
              "    <tr>\n",
              "      <th>3</th>\n",
              "      <td>9f89gMGdz0U4l3</td>\n",
              "      <td>NaN</td>\n",
              "      <td>trial</td>\n",
              "      <td>android</td>\n",
              "      <td>NaN</td>\n",
              "      <td>NaN</td>\n",
              "      <td>2021-05-01 17:32:09.000</td>\n",
              "      <td>NaN</td>\n",
              "    </tr>\n",
              "    <tr>\n",
              "      <th>4</th>\n",
              "      <td>UmmJb0tijBSTCC</td>\n",
              "      <td>NaN</td>\n",
              "      <td>trial</td>\n",
              "      <td>android</td>\n",
              "      <td>NaN</td>\n",
              "      <td>NaN</td>\n",
              "      <td>2021-06-20 08:27:29.000</td>\n",
              "      <td>NaN</td>\n",
              "    </tr>\n",
              "    <tr>\n",
              "      <th>...</th>\n",
              "      <td>...</td>\n",
              "      <td>...</td>\n",
              "      <td>...</td>\n",
              "      <td>...</td>\n",
              "      <td>...</td>\n",
              "      <td>...</td>\n",
              "      <td>...</td>\n",
              "      <td>...</td>\n",
              "    </tr>\n",
              "    <tr>\n",
              "      <th>369625</th>\n",
              "      <td>mDF8bIXIlZdzOY</td>\n",
              "      <td>int</td>\n",
              "      <td>trial</td>\n",
              "      <td>ios</td>\n",
              "      <td>NaN</td>\n",
              "      <td>NaN</td>\n",
              "      <td>2021-07-25 01:02:28.000</td>\n",
              "      <td>NaN</td>\n",
              "    </tr>\n",
              "    <tr>\n",
              "      <th>369626</th>\n",
              "      <td>mDF8bIXIlZdzOY</td>\n",
              "      <td>int</td>\n",
              "      <td>trial</td>\n",
              "      <td>web</td>\n",
              "      <td>NaN</td>\n",
              "      <td>NaN</td>\n",
              "      <td>2021-07-25 13:32:15.000</td>\n",
              "      <td>NaN</td>\n",
              "    </tr>\n",
              "    <tr>\n",
              "      <th>369627</th>\n",
              "      <td>mDF8bIXIlZdzOY</td>\n",
              "      <td>int</td>\n",
              "      <td>trial</td>\n",
              "      <td>web</td>\n",
              "      <td>NaN</td>\n",
              "      <td>NaN</td>\n",
              "      <td>2021-07-25 13:31:46.000</td>\n",
              "      <td>NaN</td>\n",
              "    </tr>\n",
              "    <tr>\n",
              "      <th>369628</th>\n",
              "      <td>mDF8bIXIlZdzOY</td>\n",
              "      <td>int</td>\n",
              "      <td>trial</td>\n",
              "      <td>web</td>\n",
              "      <td>NaN</td>\n",
              "      <td>NaN</td>\n",
              "      <td>2021-07-25 13:31:41.000</td>\n",
              "      <td>NaN</td>\n",
              "    </tr>\n",
              "    <tr>\n",
              "      <th>369629</th>\n",
              "      <td>Lv3etATFkdUZg6</td>\n",
              "      <td>NaN</td>\n",
              "      <td>trial</td>\n",
              "      <td>web</td>\n",
              "      <td>NaN</td>\n",
              "      <td>NaN</td>\n",
              "      <td>2021-06-04 18:17:47.000</td>\n",
              "      <td>NaN</td>\n",
              "    </tr>\n",
              "  </tbody>\n",
              "</table>\n",
              "<p>369630 rows × 8 columns</p>\n",
              "</div>"
            ],
            "text/plain": [
              "                    ID Tipo_Identidade  ...             Data_Criacao Data_Compra\n",
              "0       5hhLsLAf14Nmlu            cnpj  ...  2021-06-02 22:58:51.000         NaN\n",
              "1       nXkrWYSq6KciuW             NaN  ...  2021-08-08 19:40:06.000         NaN\n",
              "2       djBEsGHI8lPt3F            cnpj  ...  2021-06-09 22:50:22.000         NaN\n",
              "3       9f89gMGdz0U4l3             NaN  ...  2021-05-01 17:32:09.000         NaN\n",
              "4       UmmJb0tijBSTCC             NaN  ...  2021-06-20 08:27:29.000         NaN\n",
              "...                ...             ...  ...                      ...         ...\n",
              "369625  mDF8bIXIlZdzOY             int  ...  2021-07-25 01:02:28.000         NaN\n",
              "369626  mDF8bIXIlZdzOY             int  ...  2021-07-25 13:32:15.000         NaN\n",
              "369627  mDF8bIXIlZdzOY             int  ...  2021-07-25 13:31:46.000         NaN\n",
              "369628  mDF8bIXIlZdzOY             int  ...  2021-07-25 13:31:41.000         NaN\n",
              "369629  Lv3etATFkdUZg6             NaN  ...  2021-06-04 18:17:47.000         NaN\n",
              "\n",
              "[369630 rows x 8 columns]"
            ]
          },
          "metadata": {}
        }
      ],
      "metadata": {
        "colab": {
          "base_uri": "https://localhost:8080/",
          "height": 417
        },
        "id": "pZsMH_a__Mii",
        "outputId": "98f0bc13-6245-47f0-e5fa-cad7a2379e64"
      }
    },
    {
      "cell_type": "code",
      "execution_count": null,
      "source": [
        "tabela.groupby('Status_Plano').count() #Total de usuários pagantes e usuários em trial"
      ],
      "outputs": [
        {
          "output_type": "execute_result",
          "data": {
            "text/html": [
              "<div>\n",
              "<style scoped>\n",
              "    .dataframe tbody tr th:only-of-type {\n",
              "        vertical-align: middle;\n",
              "    }\n",
              "\n",
              "    .dataframe tbody tr th {\n",
              "        vertical-align: top;\n",
              "    }\n",
              "\n",
              "    .dataframe thead th {\n",
              "        text-align: right;\n",
              "    }\n",
              "</style>\n",
              "<table border=\"1\" class=\"dataframe\">\n",
              "  <thead>\n",
              "    <tr style=\"text-align: right;\">\n",
              "      <th></th>\n",
              "      <th>ID</th>\n",
              "      <th>Tipo_Identidade</th>\n",
              "      <th>Sistema_Operacional</th>\n",
              "      <th>Recorrência</th>\n",
              "      <th>Tipo_Pagamento</th>\n",
              "      <th>Data_Criacao</th>\n",
              "      <th>Data_Compra</th>\n",
              "    </tr>\n",
              "    <tr>\n",
              "      <th>Status_Plano</th>\n",
              "      <th></th>\n",
              "      <th></th>\n",
              "      <th></th>\n",
              "      <th></th>\n",
              "      <th></th>\n",
              "      <th></th>\n",
              "      <th></th>\n",
              "    </tr>\n",
              "  </thead>\n",
              "  <tbody>\n",
              "    <tr>\n",
              "      <th>paid</th>\n",
              "      <td>15150</td>\n",
              "      <td>11628</td>\n",
              "      <td>15150</td>\n",
              "      <td>14946</td>\n",
              "      <td>14965</td>\n",
              "      <td>15150</td>\n",
              "      <td>14950</td>\n",
              "    </tr>\n",
              "    <tr>\n",
              "      <th>trial</th>\n",
              "      <td>354480</td>\n",
              "      <td>77897</td>\n",
              "      <td>354478</td>\n",
              "      <td>45</td>\n",
              "      <td>121</td>\n",
              "      <td>354480</td>\n",
              "      <td>45</td>\n",
              "    </tr>\n",
              "  </tbody>\n",
              "</table>\n",
              "</div>"
            ],
            "text/plain": [
              "                  ID  Tipo_Identidade  ...  Data_Criacao  Data_Compra\n",
              "Status_Plano                           ...                           \n",
              "paid           15150            11628  ...         15150        14950\n",
              "trial         354480            77897  ...        354480           45\n",
              "\n",
              "[2 rows x 7 columns]"
            ]
          },
          "metadata": {},
          "execution_count": 592
        }
      ],
      "metadata": {
        "colab": {
          "base_uri": "https://localhost:8080/",
          "height": 142
        },
        "id": "UwzmV1BDBZIf",
        "outputId": "db0803b4-1f9d-4991-a952-0a8235fd356b"
      }
    },
    {
      "cell_type": "code",
      "execution_count": null,
      "source": [
        "tabela.groupby('Sistema_Operacional',).count()"
      ],
      "outputs": [
        {
          "output_type": "execute_result",
          "data": {
            "text/html": [
              "<div>\n",
              "<style scoped>\n",
              "    .dataframe tbody tr th:only-of-type {\n",
              "        vertical-align: middle;\n",
              "    }\n",
              "\n",
              "    .dataframe tbody tr th {\n",
              "        vertical-align: top;\n",
              "    }\n",
              "\n",
              "    .dataframe thead th {\n",
              "        text-align: right;\n",
              "    }\n",
              "</style>\n",
              "<table border=\"1\" class=\"dataframe\">\n",
              "  <thead>\n",
              "    <tr style=\"text-align: right;\">\n",
              "      <th></th>\n",
              "      <th>ID</th>\n",
              "      <th>Tipo_Identidade</th>\n",
              "      <th>Status_Plano</th>\n",
              "      <th>Recorrência</th>\n",
              "      <th>Tipo_Pagamento</th>\n",
              "      <th>Data_Criacao</th>\n",
              "      <th>Data_Compra</th>\n",
              "    </tr>\n",
              "    <tr>\n",
              "      <th>Sistema_Operacional</th>\n",
              "      <th></th>\n",
              "      <th></th>\n",
              "      <th></th>\n",
              "      <th></th>\n",
              "      <th></th>\n",
              "      <th></th>\n",
              "      <th></th>\n",
              "    </tr>\n",
              "  </thead>\n",
              "  <tbody>\n",
              "    <tr>\n",
              "      <th>android</th>\n",
              "      <td>231264</td>\n",
              "      <td>57748</td>\n",
              "      <td>231264</td>\n",
              "      <td>6377</td>\n",
              "      <td>6379</td>\n",
              "      <td>231264</td>\n",
              "      <td>6377</td>\n",
              "    </tr>\n",
              "    <tr>\n",
              "      <th>ios</th>\n",
              "      <td>80354</td>\n",
              "      <td>23553</td>\n",
              "      <td>80354</td>\n",
              "      <td>5494</td>\n",
              "      <td>5586</td>\n",
              "      <td>80354</td>\n",
              "      <td>5498</td>\n",
              "    </tr>\n",
              "    <tr>\n",
              "      <th>kyte-web</th>\n",
              "      <td>105</td>\n",
              "      <td>2</td>\n",
              "      <td>105</td>\n",
              "      <td>0</td>\n",
              "      <td>0</td>\n",
              "      <td>105</td>\n",
              "      <td>0</td>\n",
              "    </tr>\n",
              "    <tr>\n",
              "      <th>web</th>\n",
              "      <td>57905</td>\n",
              "      <td>8222</td>\n",
              "      <td>57905</td>\n",
              "      <td>3120</td>\n",
              "      <td>3121</td>\n",
              "      <td>57905</td>\n",
              "      <td>3120</td>\n",
              "    </tr>\n",
              "  </tbody>\n",
              "</table>\n",
              "</div>"
            ],
            "text/plain": [
              "                         ID  Tipo_Identidade  ...  Data_Criacao  Data_Compra\n",
              "Sistema_Operacional                           ...                           \n",
              "android              231264            57748  ...        231264         6377\n",
              "ios                   80354            23553  ...         80354         5498\n",
              "kyte-web                105                2  ...           105            0\n",
              "web                   57905             8222  ...         57905         3120\n",
              "\n",
              "[4 rows x 7 columns]"
            ]
          },
          "metadata": {},
          "execution_count": 593
        }
      ],
      "metadata": {
        "colab": {
          "base_uri": "https://localhost:8080/",
          "height": 203
        },
        "id": "j383RfbpBkE_",
        "outputId": "64c59fd0-4c35-41cb-d0f8-e089fa353d87"
      }
    },
    {
      "cell_type": "code",
      "execution_count": null,
      "source": [
        "android = tabela.loc[tabela['Sistema_Operacional']=='android']\n",
        "android.head(5)"
      ],
      "outputs": [
        {
          "output_type": "execute_result",
          "data": {
            "text/html": [
              "<div>\n",
              "<style scoped>\n",
              "    .dataframe tbody tr th:only-of-type {\n",
              "        vertical-align: middle;\n",
              "    }\n",
              "\n",
              "    .dataframe tbody tr th {\n",
              "        vertical-align: top;\n",
              "    }\n",
              "\n",
              "    .dataframe thead th {\n",
              "        text-align: right;\n",
              "    }\n",
              "</style>\n",
              "<table border=\"1\" class=\"dataframe\">\n",
              "  <thead>\n",
              "    <tr style=\"text-align: right;\">\n",
              "      <th></th>\n",
              "      <th>ID</th>\n",
              "      <th>Tipo_Identidade</th>\n",
              "      <th>Status_Plano</th>\n",
              "      <th>Sistema_Operacional</th>\n",
              "      <th>Recorrência</th>\n",
              "      <th>Tipo_Pagamento</th>\n",
              "      <th>Data_Criacao</th>\n",
              "      <th>Data_Compra</th>\n",
              "    </tr>\n",
              "  </thead>\n",
              "  <tbody>\n",
              "    <tr>\n",
              "      <th>0</th>\n",
              "      <td>5hhLsLAf14Nmlu</td>\n",
              "      <td>cnpj</td>\n",
              "      <td>trial</td>\n",
              "      <td>android</td>\n",
              "      <td>NaN</td>\n",
              "      <td>NaN</td>\n",
              "      <td>2021-06-02 22:58:51.000</td>\n",
              "      <td>NaN</td>\n",
              "    </tr>\n",
              "    <tr>\n",
              "      <th>3</th>\n",
              "      <td>9f89gMGdz0U4l3</td>\n",
              "      <td>NaN</td>\n",
              "      <td>trial</td>\n",
              "      <td>android</td>\n",
              "      <td>NaN</td>\n",
              "      <td>NaN</td>\n",
              "      <td>2021-05-01 17:32:09.000</td>\n",
              "      <td>NaN</td>\n",
              "    </tr>\n",
              "    <tr>\n",
              "      <th>4</th>\n",
              "      <td>UmmJb0tijBSTCC</td>\n",
              "      <td>NaN</td>\n",
              "      <td>trial</td>\n",
              "      <td>android</td>\n",
              "      <td>NaN</td>\n",
              "      <td>NaN</td>\n",
              "      <td>2021-06-20 08:27:29.000</td>\n",
              "      <td>NaN</td>\n",
              "    </tr>\n",
              "    <tr>\n",
              "      <th>6</th>\n",
              "      <td>F7e4PhGJ0FTn32</td>\n",
              "      <td>NaN</td>\n",
              "      <td>trial</td>\n",
              "      <td>android</td>\n",
              "      <td>NaN</td>\n",
              "      <td>NaN</td>\n",
              "      <td>2021-06-01 23:41:55.000</td>\n",
              "      <td>NaN</td>\n",
              "    </tr>\n",
              "    <tr>\n",
              "      <th>7</th>\n",
              "      <td>xmUDd3Y4srXI1K</td>\n",
              "      <td>NaN</td>\n",
              "      <td>trial</td>\n",
              "      <td>android</td>\n",
              "      <td>NaN</td>\n",
              "      <td>NaN</td>\n",
              "      <td>2021-05-20 13:06:09.000</td>\n",
              "      <td>NaN</td>\n",
              "    </tr>\n",
              "  </tbody>\n",
              "</table>\n",
              "</div>"
            ],
            "text/plain": [
              "               ID Tipo_Identidade  ...             Data_Criacao Data_Compra\n",
              "0  5hhLsLAf14Nmlu            cnpj  ...  2021-06-02 22:58:51.000         NaN\n",
              "3  9f89gMGdz0U4l3             NaN  ...  2021-05-01 17:32:09.000         NaN\n",
              "4  UmmJb0tijBSTCC             NaN  ...  2021-06-20 08:27:29.000         NaN\n",
              "6  F7e4PhGJ0FTn32             NaN  ...  2021-06-01 23:41:55.000         NaN\n",
              "7  xmUDd3Y4srXI1K             NaN  ...  2021-05-20 13:06:09.000         NaN\n",
              "\n",
              "[5 rows x 8 columns]"
            ]
          },
          "metadata": {},
          "execution_count": 594
        }
      ],
      "metadata": {
        "colab": {
          "base_uri": "https://localhost:8080/",
          "height": 203
        },
        "id": "dLdTynT6C1da",
        "outputId": "ddac9e00-3e56-4f78-bb1b-8aa9c3f63b63"
      }
    },
    {
      "cell_type": "markdown",
      "source": [
        "Correlacionar sistema operacional com status do plano : saber quantos usuarios tem que tipod e plano\n"
      ],
      "metadata": {
        "id": "L0hlc6iTG-A3"
      }
    },
    {
      "cell_type": "code",
      "execution_count": null,
      "source": [
        "status_android = android['Status_Plano'].value_counts() # Número de usuários android que estão trial/paid\n",
        "print(status_android)\n"
      ],
      "outputs": [
        {
          "output_type": "stream",
          "name": "stdout",
          "text": [
            "trial    224776\n",
            "paid       6488\n",
            "Name: Status_Plano, dtype: int64\n"
          ]
        }
      ],
      "metadata": {
        "colab": {
          "base_uri": "https://localhost:8080/"
        },
        "id": "U7S8PXsrEsTf",
        "outputId": "e3cfb1fd-50ae-4959-e5a6-fc63deaa7c91"
      }
    },
    {
      "cell_type": "code",
      "execution_count": null,
      "source": [
        "ios = tabela.loc[tabela['Sistema_Operacional']=='ios']\n",
        "ios.head(5)"
      ],
      "outputs": [
        {
          "output_type": "execute_result",
          "data": {
            "text/html": [
              "<div>\n",
              "<style scoped>\n",
              "    .dataframe tbody tr th:only-of-type {\n",
              "        vertical-align: middle;\n",
              "    }\n",
              "\n",
              "    .dataframe tbody tr th {\n",
              "        vertical-align: top;\n",
              "    }\n",
              "\n",
              "    .dataframe thead th {\n",
              "        text-align: right;\n",
              "    }\n",
              "</style>\n",
              "<table border=\"1\" class=\"dataframe\">\n",
              "  <thead>\n",
              "    <tr style=\"text-align: right;\">\n",
              "      <th></th>\n",
              "      <th>ID</th>\n",
              "      <th>Tipo_Identidade</th>\n",
              "      <th>Status_Plano</th>\n",
              "      <th>Sistema_Operacional</th>\n",
              "      <th>Recorrência</th>\n",
              "      <th>Tipo_Pagamento</th>\n",
              "      <th>Data_Criacao</th>\n",
              "      <th>Data_Compra</th>\n",
              "    </tr>\n",
              "  </thead>\n",
              "  <tbody>\n",
              "    <tr>\n",
              "      <th>2</th>\n",
              "      <td>djBEsGHI8lPt3F</td>\n",
              "      <td>cnpj</td>\n",
              "      <td>trial</td>\n",
              "      <td>ios</td>\n",
              "      <td>NaN</td>\n",
              "      <td>NaN</td>\n",
              "      <td>2021-06-09 22:50:22.000</td>\n",
              "      <td>NaN</td>\n",
              "    </tr>\n",
              "    <tr>\n",
              "      <th>5</th>\n",
              "      <td>CSJJUwsb0ANjz8</td>\n",
              "      <td>cpf</td>\n",
              "      <td>trial</td>\n",
              "      <td>ios</td>\n",
              "      <td>NaN</td>\n",
              "      <td>NaN</td>\n",
              "      <td>2021-05-27 09:37:50.000</td>\n",
              "      <td>NaN</td>\n",
              "    </tr>\n",
              "    <tr>\n",
              "      <th>11</th>\n",
              "      <td>3PAlQhZh5uhHt1</td>\n",
              "      <td>NaN</td>\n",
              "      <td>trial</td>\n",
              "      <td>ios</td>\n",
              "      <td>NaN</td>\n",
              "      <td>NaN</td>\n",
              "      <td>2021-06-18 16:52:18.000</td>\n",
              "      <td>NaN</td>\n",
              "    </tr>\n",
              "    <tr>\n",
              "      <th>12</th>\n",
              "      <td>7sFpCglj5PPZUD</td>\n",
              "      <td>NaN</td>\n",
              "      <td>trial</td>\n",
              "      <td>ios</td>\n",
              "      <td>NaN</td>\n",
              "      <td>NaN</td>\n",
              "      <td>2021-06-04 17:01:00.000</td>\n",
              "      <td>NaN</td>\n",
              "    </tr>\n",
              "    <tr>\n",
              "      <th>34</th>\n",
              "      <td>jPM4cIp3EMPqLa</td>\n",
              "      <td>NaN</td>\n",
              "      <td>trial</td>\n",
              "      <td>ios</td>\n",
              "      <td>NaN</td>\n",
              "      <td>NaN</td>\n",
              "      <td>2021-07-14 19:55:25.000</td>\n",
              "      <td>NaN</td>\n",
              "    </tr>\n",
              "  </tbody>\n",
              "</table>\n",
              "</div>"
            ],
            "text/plain": [
              "                ID Tipo_Identidade  ...             Data_Criacao Data_Compra\n",
              "2   djBEsGHI8lPt3F            cnpj  ...  2021-06-09 22:50:22.000         NaN\n",
              "5   CSJJUwsb0ANjz8             cpf  ...  2021-05-27 09:37:50.000         NaN\n",
              "11  3PAlQhZh5uhHt1             NaN  ...  2021-06-18 16:52:18.000         NaN\n",
              "12  7sFpCglj5PPZUD             NaN  ...  2021-06-04 17:01:00.000         NaN\n",
              "34  jPM4cIp3EMPqLa             NaN  ...  2021-07-14 19:55:25.000         NaN\n",
              "\n",
              "[5 rows x 8 columns]"
            ]
          },
          "metadata": {},
          "execution_count": 596
        }
      ],
      "metadata": {
        "colab": {
          "base_uri": "https://localhost:8080/",
          "height": 203
        },
        "id": "0QDUuG2CGj-8",
        "outputId": "23b5ed6c-e172-496e-f53d-c69263ec3a80"
      }
    },
    {
      "cell_type": "code",
      "execution_count": null,
      "source": [
        "status_ios = ios['Status_Plano'].value_counts() # Número de usuários android que estão trial/paid\n",
        "print(status_ios)"
      ],
      "outputs": [
        {
          "output_type": "stream",
          "name": "stdout",
          "text": [
            "trial    74818\n",
            "paid      5536\n",
            "Name: Status_Plano, dtype: int64\n"
          ]
        }
      ],
      "metadata": {
        "colab": {
          "base_uri": "https://localhost:8080/"
        },
        "id": "YEuV15MwIW3N",
        "outputId": "af07acc1-2bf1-436a-c14d-c8e6424b39b0"
      }
    },
    {
      "cell_type": "code",
      "execution_count": null,
      "source": [
        "web = tabela.loc[tabela['Sistema_Operacional']=='web']\n",
        "web.head(5)"
      ],
      "outputs": [
        {
          "output_type": "execute_result",
          "data": {
            "text/html": [
              "<div>\n",
              "<style scoped>\n",
              "    .dataframe tbody tr th:only-of-type {\n",
              "        vertical-align: middle;\n",
              "    }\n",
              "\n",
              "    .dataframe tbody tr th {\n",
              "        vertical-align: top;\n",
              "    }\n",
              "\n",
              "    .dataframe thead th {\n",
              "        text-align: right;\n",
              "    }\n",
              "</style>\n",
              "<table border=\"1\" class=\"dataframe\">\n",
              "  <thead>\n",
              "    <tr style=\"text-align: right;\">\n",
              "      <th></th>\n",
              "      <th>ID</th>\n",
              "      <th>Tipo_Identidade</th>\n",
              "      <th>Status_Plano</th>\n",
              "      <th>Sistema_Operacional</th>\n",
              "      <th>Recorrência</th>\n",
              "      <th>Tipo_Pagamento</th>\n",
              "      <th>Data_Criacao</th>\n",
              "      <th>Data_Compra</th>\n",
              "    </tr>\n",
              "  </thead>\n",
              "  <tbody>\n",
              "    <tr>\n",
              "      <th>1</th>\n",
              "      <td>nXkrWYSq6KciuW</td>\n",
              "      <td>NaN</td>\n",
              "      <td>trial</td>\n",
              "      <td>web</td>\n",
              "      <td>NaN</td>\n",
              "      <td>NaN</td>\n",
              "      <td>2021-08-08 19:40:06.000</td>\n",
              "      <td>NaN</td>\n",
              "    </tr>\n",
              "    <tr>\n",
              "      <th>13</th>\n",
              "      <td>QouB2p6kEtbZTP</td>\n",
              "      <td>NaN</td>\n",
              "      <td>trial</td>\n",
              "      <td>web</td>\n",
              "      <td>NaN</td>\n",
              "      <td>NaN</td>\n",
              "      <td>2021-07-22 15:33:13.000</td>\n",
              "      <td>NaN</td>\n",
              "    </tr>\n",
              "    <tr>\n",
              "      <th>15</th>\n",
              "      <td>h5bqSacwCPXwIg</td>\n",
              "      <td>NaN</td>\n",
              "      <td>trial</td>\n",
              "      <td>web</td>\n",
              "      <td>NaN</td>\n",
              "      <td>NaN</td>\n",
              "      <td>2021-07-03 00:31:10.000</td>\n",
              "      <td>NaN</td>\n",
              "    </tr>\n",
              "    <tr>\n",
              "      <th>25</th>\n",
              "      <td>UtRd31pBlATQmP</td>\n",
              "      <td>NaN</td>\n",
              "      <td>trial</td>\n",
              "      <td>web</td>\n",
              "      <td>NaN</td>\n",
              "      <td>NaN</td>\n",
              "      <td>2021-06-12 02:57:44.000</td>\n",
              "      <td>NaN</td>\n",
              "    </tr>\n",
              "    <tr>\n",
              "      <th>28</th>\n",
              "      <td>m0vHLQLZUfXasc</td>\n",
              "      <td>NaN</td>\n",
              "      <td>trial</td>\n",
              "      <td>web</td>\n",
              "      <td>NaN</td>\n",
              "      <td>NaN</td>\n",
              "      <td>2021-06-13 09:48:11.000</td>\n",
              "      <td>NaN</td>\n",
              "    </tr>\n",
              "  </tbody>\n",
              "</table>\n",
              "</div>"
            ],
            "text/plain": [
              "                ID Tipo_Identidade  ...             Data_Criacao Data_Compra\n",
              "1   nXkrWYSq6KciuW             NaN  ...  2021-08-08 19:40:06.000         NaN\n",
              "13  QouB2p6kEtbZTP             NaN  ...  2021-07-22 15:33:13.000         NaN\n",
              "15  h5bqSacwCPXwIg             NaN  ...  2021-07-03 00:31:10.000         NaN\n",
              "25  UtRd31pBlATQmP             NaN  ...  2021-06-12 02:57:44.000         NaN\n",
              "28  m0vHLQLZUfXasc             NaN  ...  2021-06-13 09:48:11.000         NaN\n",
              "\n",
              "[5 rows x 8 columns]"
            ]
          },
          "metadata": {},
          "execution_count": 598
        }
      ],
      "metadata": {
        "colab": {
          "base_uri": "https://localhost:8080/",
          "height": 203
        },
        "id": "Sdq8coobI8Ns",
        "outputId": "089fe47b-715e-432c-948e-da8f0f8fc994"
      }
    },
    {
      "cell_type": "code",
      "execution_count": null,
      "source": [
        "status_web = web['Status_Plano'].value_counts() # Número de usuários android que estão trial/paid\n",
        "print(status_web) "
      ],
      "outputs": [
        {
          "output_type": "stream",
          "name": "stdout",
          "text": [
            "trial    54779\n",
            "paid      3126\n",
            "Name: Status_Plano, dtype: int64\n"
          ]
        }
      ],
      "metadata": {
        "colab": {
          "base_uri": "https://localhost:8080/"
        },
        "id": "qDjWVvzLLWbu",
        "outputId": "0eda21b3-d0f5-4aae-c7dd-67739382a88e"
      }
    },
    {
      "cell_type": "code",
      "execution_count": null,
      "source": [
        "kyte_web = tabela.loc[tabela['Sistema_Operacional']=='kyte-web']\n",
        "kyte_web.head(5)"
      ],
      "outputs": [
        {
          "output_type": "execute_result",
          "data": {
            "text/html": [
              "<div>\n",
              "<style scoped>\n",
              "    .dataframe tbody tr th:only-of-type {\n",
              "        vertical-align: middle;\n",
              "    }\n",
              "\n",
              "    .dataframe tbody tr th {\n",
              "        vertical-align: top;\n",
              "    }\n",
              "\n",
              "    .dataframe thead th {\n",
              "        text-align: right;\n",
              "    }\n",
              "</style>\n",
              "<table border=\"1\" class=\"dataframe\">\n",
              "  <thead>\n",
              "    <tr style=\"text-align: right;\">\n",
              "      <th></th>\n",
              "      <th>ID</th>\n",
              "      <th>Tipo_Identidade</th>\n",
              "      <th>Status_Plano</th>\n",
              "      <th>Sistema_Operacional</th>\n",
              "      <th>Recorrência</th>\n",
              "      <th>Tipo_Pagamento</th>\n",
              "      <th>Data_Criacao</th>\n",
              "      <th>Data_Compra</th>\n",
              "    </tr>\n",
              "  </thead>\n",
              "  <tbody>\n",
              "    <tr>\n",
              "      <th>11524</th>\n",
              "      <td>XYhAASyps3ZhOD</td>\n",
              "      <td>NaN</td>\n",
              "      <td>trial</td>\n",
              "      <td>kyte-web</td>\n",
              "      <td>NaN</td>\n",
              "      <td>NaN</td>\n",
              "      <td>2021-08-24 17:14:45.000</td>\n",
              "      <td>NaN</td>\n",
              "    </tr>\n",
              "    <tr>\n",
              "      <th>11525</th>\n",
              "      <td>C2yLp57o5mMd9o</td>\n",
              "      <td>NaN</td>\n",
              "      <td>trial</td>\n",
              "      <td>kyte-web</td>\n",
              "      <td>NaN</td>\n",
              "      <td>NaN</td>\n",
              "      <td>2021-08-24 17:06:26.000</td>\n",
              "      <td>NaN</td>\n",
              "    </tr>\n",
              "    <tr>\n",
              "      <th>62397</th>\n",
              "      <td>BMuFp9Gvnwdai3</td>\n",
              "      <td>NaN</td>\n",
              "      <td>trial</td>\n",
              "      <td>kyte-web</td>\n",
              "      <td>NaN</td>\n",
              "      <td>NaN</td>\n",
              "      <td>2021-08-24 10:09:41.000</td>\n",
              "      <td>NaN</td>\n",
              "    </tr>\n",
              "    <tr>\n",
              "      <th>99079</th>\n",
              "      <td>3oL2nRX8jrfa85</td>\n",
              "      <td>NaN</td>\n",
              "      <td>trial</td>\n",
              "      <td>kyte-web</td>\n",
              "      <td>NaN</td>\n",
              "      <td>NaN</td>\n",
              "      <td>2021-08-16 08:07:57.000</td>\n",
              "      <td>NaN</td>\n",
              "    </tr>\n",
              "    <tr>\n",
              "      <th>141422</th>\n",
              "      <td>rzTonOngi0fBIF</td>\n",
              "      <td>NaN</td>\n",
              "      <td>trial</td>\n",
              "      <td>kyte-web</td>\n",
              "      <td>NaN</td>\n",
              "      <td>NaN</td>\n",
              "      <td>2021-07-21 03:19:32.000</td>\n",
              "      <td>NaN</td>\n",
              "    </tr>\n",
              "  </tbody>\n",
              "</table>\n",
              "</div>"
            ],
            "text/plain": [
              "                    ID Tipo_Identidade  ...             Data_Criacao Data_Compra\n",
              "11524   XYhAASyps3ZhOD             NaN  ...  2021-08-24 17:14:45.000         NaN\n",
              "11525   C2yLp57o5mMd9o             NaN  ...  2021-08-24 17:06:26.000         NaN\n",
              "62397   BMuFp9Gvnwdai3             NaN  ...  2021-08-24 10:09:41.000         NaN\n",
              "99079   3oL2nRX8jrfa85             NaN  ...  2021-08-16 08:07:57.000         NaN\n",
              "141422  rzTonOngi0fBIF             NaN  ...  2021-07-21 03:19:32.000         NaN\n",
              "\n",
              "[5 rows x 8 columns]"
            ]
          },
          "metadata": {},
          "execution_count": 600
        }
      ],
      "metadata": {
        "colab": {
          "base_uri": "https://localhost:8080/",
          "height": 203
        },
        "id": "u-khsBHmLv4H",
        "outputId": "f9a0a430-2336-4bf1-81cd-c7947f906601"
      }
    },
    {
      "cell_type": "code",
      "execution_count": null,
      "source": [
        "status_kyte = kyte_web['Status_Plano'].value_counts() # Número de usuários android que estão trial/paid\n",
        "print(status_kyte) "
      ],
      "outputs": [
        {
          "output_type": "stream",
          "name": "stdout",
          "text": [
            "trial    105\n",
            "Name: Status_Plano, dtype: int64\n"
          ]
        }
      ],
      "metadata": {
        "colab": {
          "base_uri": "https://localhost:8080/"
        },
        "id": "FHAjOXQtMMzM",
        "outputId": "e10c61cc-ea3b-4cfd-c9a2-01ca76276833"
      }
    },
    {
      "cell_type": "code",
      "execution_count": null,
      "source": [
        "print(tabela_sistema)"
      ],
      "outputs": [
        {
          "output_type": "stream",
          "name": "stdout",
          "text": [
            "android     231264\n",
            "ios          80354\n",
            "web          57905\n",
            "kyte-web       105\n",
            "Name: Sistema_Operacional, dtype: int64\n"
          ]
        }
      ],
      "metadata": {
        "colab": {
          "base_uri": "https://localhost:8080/"
        },
        "id": "SF99CAtOg5Fr",
        "outputId": "e719e86b-06c4-4b8f-cd57-ada4c61fafc1"
      }
    },
    {
      "cell_type": "markdown",
      "source": [
        "#PERCENTUAL DE SISTEMAS MAIS UTILIZADOS"
      ],
      "metadata": {
        "id": "kyfg7yzJnFit"
      }
    },
    {
      "cell_type": "code",
      "execution_count": 9,
      "source": [
        "rotulos = ['android','ios','web','kyte-web']\n",
        "valores = ['231264','80354','57905','105']\n",
        "colors = [\"#20257c\", \"#424ad1\", \"#6a8ee8\", \"#66bbe2\", \"#66dee2\", \"#6ce2cb\"]\n",
        "explode = (0.02,0,0,0.0)\n",
        "plt.figure(figsize=(10,10))\n",
        "plt.pie(x=valores, labels=rotulos,autopct='%1.1f%%', explode = explode, shadow= True, colors=colors, wedgeprops={'edgecolor':'black'},textprops=dict(color=\"w\"), startangle=90)\n",
        "plt.legend(ncol=2,loc=8)\n",
        "plt.title('Sistemas mais utilizados', size =20,fontweight='bold')\n",
        "plt.show()"
      ],
      "outputs": [
        {
          "output_type": "display_data",
          "data": {
            "image/png": "[encoded data removed]",
            "text/plain": [
              "<Figure size 720x720 with 1 Axes>"
            ]
          },
          "metadata": {}
        }
      ],
      "metadata": {
        "colab": {
          "base_uri": "https://localhost:8080/",
          "height": 596
        },
        "id": "8hxLogk7iVVt",
        "outputId": "ffd371cb-64b0-4035-ff03-09106019c3a6"
      }
    },
    {
      "cell_type": "code",
      "execution_count": null,
      "source": [
        "print(status_android)\n",
        "print(status_ios)\n",
        "print(status_web)\n",
        "print(status_kyte)"
      ],
      "outputs": [
        {
          "output_type": "stream",
          "name": "stdout",
          "text": [
            "trial    224776\n",
            "paid       6488\n",
            "Name: Status_Plano, dtype: int64\n",
            "trial    74818\n",
            "paid      5536\n",
            "Name: Status_Plano, dtype: int64\n",
            "trial    54779\n",
            "paid      3126\n",
            "Name: Status_Plano, dtype: int64\n",
            "trial    105\n",
            "Name: Status_Plano, dtype: int64\n"
          ]
        }
      ],
      "metadata": {
        "colab": {
          "base_uri": "https://localhost:8080/"
        },
        "id": "zPRi328alCj7",
        "outputId": "f001cfd7-38ea-44a5-fe69-82c2afacfe4c"
      }
    },
    {
      "cell_type": "code",
      "execution_count": null,
      "source": [
        "df = pd.DataFrame([['android',224776,6488,231264],['ios',74818,5536,80354],['kyte_web',54779,3126,57905],['web',100,0,100]], index=range(1,5), columns=['sistema','Trial','Paid','Total'])\n",
        "display(df)"
      ],
      "outputs": [
        {
          "output_type": "display_data",
          "data": {
            "text/html": [
              "<div>\n",
              "<style scoped>\n",
              "    .dataframe tbody tr th:only-of-type {\n",
              "        vertical-align: middle;\n",
              "    }\n",
              "\n",
              "    .dataframe tbody tr th {\n",
              "        vertical-align: top;\n",
              "    }\n",
              "\n",
              "    .dataframe thead th {\n",
              "        text-align: right;\n",
              "    }\n",
              "</style>\n",
              "<table border=\"1\" class=\"dataframe\">\n",
              "  <thead>\n",
              "    <tr style=\"text-align: right;\">\n",
              "      <th></th>\n",
              "      <th>sistema</th>\n",
              "      <th>Trial</th>\n",
              "      <th>Paid</th>\n",
              "      <th>Total</th>\n",
              "    </tr>\n",
              "  </thead>\n",
              "  <tbody>\n",
              "    <tr>\n",
              "      <th>1</th>\n",
              "      <td>android</td>\n",
              "      <td>224776</td>\n",
              "      <td>6488</td>\n",
              "      <td>231264</td>\n",
              "    </tr>\n",
              "    <tr>\n",
              "      <th>2</th>\n",
              "      <td>ios</td>\n",
              "      <td>74818</td>\n",
              "      <td>5536</td>\n",
              "      <td>80354</td>\n",
              "    </tr>\n",
              "    <tr>\n",
              "      <th>3</th>\n",
              "      <td>kyte_web</td>\n",
              "      <td>54779</td>\n",
              "      <td>3126</td>\n",
              "      <td>57905</td>\n",
              "    </tr>\n",
              "    <tr>\n",
              "      <th>4</th>\n",
              "      <td>web</td>\n",
              "      <td>100</td>\n",
              "      <td>0</td>\n",
              "      <td>100</td>\n",
              "    </tr>\n",
              "  </tbody>\n",
              "</table>\n",
              "</div>"
            ],
            "text/plain": [
              "    sistema   Trial  Paid   Total\n",
              "1   android  224776  6488  231264\n",
              "2       ios   74818  5536   80354\n",
              "3  kyte_web   54779  3126   57905\n",
              "4       web     100     0     100"
            ]
          },
          "metadata": {}
        }
      ],
      "metadata": {
        "colab": {
          "base_uri": "https://localhost:8080/",
          "height": 172
        },
        "id": "2bgn3B10uBkP",
        "outputId": "f8ac434a-b455-4082-fc60-f199376f2143"
      }
    },
    {
      "cell_type": "markdown",
      "source": [
        "#Android \n"
      ],
      "metadata": {
        "id": "sAdfcl1A3Ktg"
      }
    },
    {
      "cell_type": "code",
      "execution_count": null,
      "source": [
        "android = df.loc[df['sistema']=='android']\n",
        "display(android)"
      ],
      "outputs": [
        {
          "output_type": "display_data",
          "data": {
            "text/html": [
              "<div>\n",
              "<style scoped>\n",
              "    .dataframe tbody tr th:only-of-type {\n",
              "        vertical-align: middle;\n",
              "    }\n",
              "\n",
              "    .dataframe tbody tr th {\n",
              "        vertical-align: top;\n",
              "    }\n",
              "\n",
              "    .dataframe thead th {\n",
              "        text-align: right;\n",
              "    }\n",
              "</style>\n",
              "<table border=\"1\" class=\"dataframe\">\n",
              "  <thead>\n",
              "    <tr style=\"text-align: right;\">\n",
              "      <th></th>\n",
              "      <th>sistema</th>\n",
              "      <th>Trial</th>\n",
              "      <th>Paid</th>\n",
              "      <th>Total</th>\n",
              "    </tr>\n",
              "  </thead>\n",
              "  <tbody>\n",
              "    <tr>\n",
              "      <th>1</th>\n",
              "      <td>android</td>\n",
              "      <td>224776</td>\n",
              "      <td>6488</td>\n",
              "      <td>231264</td>\n",
              "    </tr>\n",
              "  </tbody>\n",
              "</table>\n",
              "</div>"
            ],
            "text/plain": [
              "   sistema   Trial  Paid   Total\n",
              "1  android  224776  6488  231264"
            ]
          },
          "metadata": {}
        }
      ],
      "metadata": {
        "colab": {
          "base_uri": "https://localhost:8080/",
          "height": 80
        },
        "id": "lIXfWKXL2uni",
        "outputId": "7162c0ab-d57c-430e-fb99-87de303eef64"
      }
    },
    {
      "cell_type": "code",
      "execution_count": null,
      "source": [
        "rotulos = ['android_trial','android_paid']\n",
        "valores = ['224776','6488']\n",
        "explode = (0,0.5)\n",
        "plt.figure(figsize=(10,10))\n",
        "plt.pie(x=valores, labels=rotulos,autopct='%1.1f%%', explode = explode, shadow= True, colors=colors, wedgeprops={'edgecolor':'black'},textprops=dict(color=\"w\"))\n",
        "plt.tight_layout()\n",
        "plt.legend(ncol=1,loc=8)\n",
        "plt.title('ANDROID', size =20,fontweight='bold')\n",
        "plt.show()"
      ],
      "outputs": [
        {
          "output_type": "display_data",
          "data": {
            "image/png": "[encoded data removed]",
            "text/plain": [
              "<Figure size 720x720 with 1 Axes>"
            ]
          },
          "metadata": {}
        }
      ],
      "metadata": {
        "colab": {
          "base_uri": "https://localhost:8080/",
          "height": 596
        },
        "id": "4FZwGlMG48oG",
        "outputId": "da8a1b56-1587-4273-d73e-0ad2912cacb2"
      }
    },
    {
      "cell_type": "markdown",
      "source": [
        "#IOS"
      ],
      "metadata": {
        "id": "0KPRGze88c9_"
      }
    },
    {
      "cell_type": "code",
      "execution_count": null,
      "source": [
        "android = df.loc[df['sistema']=='ios']\n",
        "display(android)"
      ],
      "outputs": [
        {
          "output_type": "display_data",
          "data": {
            "text/html": [
              "<div>\n",
              "<style scoped>\n",
              "    .dataframe tbody tr th:only-of-type {\n",
              "        vertical-align: middle;\n",
              "    }\n",
              "\n",
              "    .dataframe tbody tr th {\n",
              "        vertical-align: top;\n",
              "    }\n",
              "\n",
              "    .dataframe thead th {\n",
              "        text-align: right;\n",
              "    }\n",
              "</style>\n",
              "<table border=\"1\" class=\"dataframe\">\n",
              "  <thead>\n",
              "    <tr style=\"text-align: right;\">\n",
              "      <th></th>\n",
              "      <th>sistema</th>\n",
              "      <th>Trial</th>\n",
              "      <th>Paid</th>\n",
              "      <th>Total</th>\n",
              "    </tr>\n",
              "  </thead>\n",
              "  <tbody>\n",
              "    <tr>\n",
              "      <th>2</th>\n",
              "      <td>ios</td>\n",
              "      <td>74818</td>\n",
              "      <td>5536</td>\n",
              "      <td>80354</td>\n",
              "    </tr>\n",
              "  </tbody>\n",
              "</table>\n",
              "</div>"
            ],
            "text/plain": [
              "  sistema  Trial  Paid  Total\n",
              "2     ios  74818  5536  80354"
            ]
          },
          "metadata": {}
        }
      ],
      "metadata": {
        "colab": {
          "base_uri": "https://localhost:8080/",
          "height": 80
        },
        "id": "Bv2XbOaZ8h29",
        "outputId": "b034fac6-61ae-430e-f7a7-cfa3bbaec705"
      }
    },
    {
      "cell_type": "code",
      "execution_count": null,
      "source": [
        "rotulos = ['ios_trial','ios_paid']\n",
        "valores = ['74818','5536']\n",
        "explode = (0,0.5)\n",
        "plt.figure(figsize=(10,10))\n",
        "plt.pie(x=valores, labels=rotulos,autopct='%1.1f%%', explode = explode, shadow= True, colors=colors, wedgeprops={'edgecolor':'black'},textprops=dict(color=\"w\"))\n",
        "plt.tight_layout()\n",
        "plt.legend(ncol=1,loc=8)\n",
        "plt.title('IOS', size =20,fontweight='bold')\n",
        "plt.show()"
      ],
      "outputs": [
        {
          "output_type": "display_data",
          "data": {
            "image/png": "[encoded data removed]",
            "text/plain": [
              "<Figure size 720x720 with 1 Axes>"
            ]
          },
          "metadata": {}
        }
      ],
      "metadata": {
        "colab": {
          "base_uri": "https://localhost:8080/",
          "height": 649
        },
        "id": "ZBIZIVKJ8nIg",
        "outputId": "840841a9-cca8-4f72-9666-68d0bdbd8f7c"
      }
    },
    {
      "cell_type": "markdown",
      "source": [
        "#KYTE_WEB"
      ],
      "metadata": {
        "id": "8f-RzSAP84f9"
      }
    },
    {
      "cell_type": "code",
      "execution_count": null,
      "source": [
        "android = df.loc[df['sistema']=='kyte_web']\n",
        "display(android)"
      ],
      "outputs": [
        {
          "output_type": "display_data",
          "data": {
            "text/html": [
              "<div>\n",
              "<style scoped>\n",
              "    .dataframe tbody tr th:only-of-type {\n",
              "        vertical-align: middle;\n",
              "    }\n",
              "\n",
              "    .dataframe tbody tr th {\n",
              "        vertical-align: top;\n",
              "    }\n",
              "\n",
              "    .dataframe thead th {\n",
              "        text-align: right;\n",
              "    }\n",
              "</style>\n",
              "<table border=\"1\" class=\"dataframe\">\n",
              "  <thead>\n",
              "    <tr style=\"text-align: right;\">\n",
              "      <th></th>\n",
              "      <th>sistema</th>\n",
              "      <th>Trial</th>\n",
              "      <th>Paid</th>\n",
              "      <th>Total</th>\n",
              "    </tr>\n",
              "  </thead>\n",
              "  <tbody>\n",
              "    <tr>\n",
              "      <th>3</th>\n",
              "      <td>kyte_web</td>\n",
              "      <td>54779</td>\n",
              "      <td>3126</td>\n",
              "      <td>57905</td>\n",
              "    </tr>\n",
              "  </tbody>\n",
              "</table>\n",
              "</div>"
            ],
            "text/plain": [
              "    sistema  Trial  Paid  Total\n",
              "3  kyte_web  54779  3126  57905"
            ]
          },
          "metadata": {}
        }
      ],
      "metadata": {
        "colab": {
          "base_uri": "https://localhost:8080/",
          "height": 80
        },
        "id": "DhZJKGQe88a2",
        "outputId": "d368232d-f387-44ee-f3dd-8628fa92254e"
      }
    },
    {
      "cell_type": "code",
      "execution_count": null,
      "source": [
        "rotulos = ['kyte_web_trial','kyte_web_paid']\n",
        "valores = ['54779','3126']\n",
        "explode = (0,0.5)\n",
        "plt.figure(figsize=(10,10))\n",
        "plt.pie(x=valores, labels=rotulos,autopct='%1.1f%%', explode = explode, shadow= True, colors=colors, wedgeprops={'edgecolor':'black'},textprops=dict(color=\"w\"))\n",
        "plt.tight_layout()\n",
        "plt.legend(ncol=1,loc=8)\n",
        "plt.title('KYTE_WEB', size =20,fontweight='bold')\n",
        "plt.show()"
      ],
      "outputs": [
        {
          "output_type": "display_data",
          "data": {
            "image/png": "[encoded data removed]",
            "text/plain": [
              "<Figure size 720x720 with 1 Axes>"
            ]
          },
          "metadata": {}
        }
      ],
      "metadata": {
        "colab": {
          "base_uri": "https://localhost:8080/",
          "height": 584
        },
        "id": "rhpOHqYx9B3p",
        "outputId": "2dbdb54c-8956-4dad-b989-e0443133728d"
      }
    },
    {
      "cell_type": "markdown",
      "source": [
        "#WEB"
      ],
      "metadata": {
        "id": "9d_L5FsP9zee"
      }
    },
    {
      "cell_type": "code",
      "execution_count": null,
      "source": [
        "android = df.loc[df['sistema']=='web']\n",
        "display(android)"
      ],
      "outputs": [
        {
          "output_type": "display_data",
          "data": {
            "text/html": [
              "<div>\n",
              "<style scoped>\n",
              "    .dataframe tbody tr th:only-of-type {\n",
              "        vertical-align: middle;\n",
              "    }\n",
              "\n",
              "    .dataframe tbody tr th {\n",
              "        vertical-align: top;\n",
              "    }\n",
              "\n",
              "    .dataframe thead th {\n",
              "        text-align: right;\n",
              "    }\n",
              "</style>\n",
              "<table border=\"1\" class=\"dataframe\">\n",
              "  <thead>\n",
              "    <tr style=\"text-align: right;\">\n",
              "      <th></th>\n",
              "      <th>sistema</th>\n",
              "      <th>Trial</th>\n",
              "      <th>Paid</th>\n",
              "      <th>Total</th>\n",
              "    </tr>\n",
              "  </thead>\n",
              "  <tbody>\n",
              "    <tr>\n",
              "      <th>4</th>\n",
              "      <td>web</td>\n",
              "      <td>100</td>\n",
              "      <td>0</td>\n",
              "      <td>100</td>\n",
              "    </tr>\n",
              "  </tbody>\n",
              "</table>\n",
              "</div>"
            ],
            "text/plain": [
              "  sistema  Trial  Paid  Total\n",
              "4     web    100     0    100"
            ]
          },
          "metadata": {}
        }
      ],
      "metadata": {
        "colab": {
          "base_uri": "https://localhost:8080/",
          "height": 80
        },
        "id": "V1Y_o2KT91CS",
        "outputId": "c4a8b857-9e58-4be2-a13c-8d746b91dc16"
      }
    },
    {
      "cell_type": "code",
      "execution_count": null,
      "source": [
        "rotulos = ['web_trial','web_paid']\n",
        "valores = ['100','0']\n",
        "explode = (0,0.5)\n",
        "plt.figure(figsize=(10,10))\n",
        "plt.pie(x=valores, labels=rotulos,autopct='%1.1f%%',  shadow= True,colors=colors,textprops=dict(color=\"w\") )\n",
        "plt.tight_layout()\n",
        "plt.title('WEB', size =20,fontweight='bold')\n",
        "plt.legend(ncol=1,loc=8)\n",
        "plt.show()"
      ],
      "outputs": [
        {
          "output_type": "display_data",
          "data": {
            "image/png": "[encoded data removed]",
            "text/plain": [
              "<Figure size 720x720 with 1 Axes>"
            ]
          },
          "metadata": {}
        }
      ],
      "metadata": {
        "colab": {
          "base_uri": "https://localhost:8080/",
          "height": 737
        },
        "id": "lUP_p3iH96uy",
        "outputId": "4c4b05e7-0b2f-47fb-981f-b7fd52f4bc2a"
      }
    },
    {
      "cell_type": "markdown",
      "source": [
        "#MÉTODOS DE PAGAMENTOS MAIS UTILIZADOS"
      ],
      "metadata": {
        "id": "Xac-OViUUGIa"
      }
    },
    {
      "cell_type": "code",
      "execution_count": null,
      "source": [
        "tabela['Tipo_Pagamento'].value_counts()"
      ],
      "outputs": [
        {
          "output_type": "execute_result",
          "data": {
            "text/plain": [
              "stripe    7196\n",
              "apple     4854\n",
              "asaas     2143\n",
              "ebanx      535\n",
              "paypal     356\n",
              "google       2\n",
              "Name: Tipo_Pagamento, dtype: int64"
            ]
          },
          "metadata": {},
          "execution_count": 615
        }
      ],
      "metadata": {
        "colab": {
          "base_uri": "https://localhost:8080/"
        },
        "id": "TwLSey6UAxiU",
        "outputId": "62708c9c-8c68-4c75-9666-4eca0fa145bf"
      }
    },
    {
      "cell_type": "code",
      "execution_count": null,
      "source": [
        "rotulos = ['stripe','apple','asaas','ebanx','paypal','google']\n",
        "valores = [7196,4854,2143,535,356,2]\n",
        "plt.figure(figsize=(10,10))\n",
        "explode = (0.06,0.05,0.04,0.03,0.02,0.01)\n",
        "plt.pie(sizes, colors = colors, autopct='%1.1f%%', startangle=90, \n",
        "        pctdistance=0.85, explode = explode,\n",
        "        wedgeprops={'edgecolor':'black'},textprops=dict(color=\"w\"))\n",
        "centre_circle = plt.Circle((0,0),0.70,fc='white')\n",
        "fig = plt.gcf()\n",
        "fig.gca().add_artist(centre_circle)\n",
        "plt.title('Métodos de pagamentos mais utilizados', size = 20,fontweight='bold')\n",
        "plt.legend(labels=rotulos,ncol=3,loc=8, frameon=True)\n",
        "plt.show()"
      ],
      "outputs": [
        {
          "output_type": "display_data",
          "data": {
            "image/png": "[encoded data removed]",
            "text/plain": [
              "<Figure size 720x720 with 1 Axes>"
            ]
          },
          "metadata": {}
        }
      ],
      "metadata": {
        "colab": {
          "base_uri": "https://localhost:8080/",
          "height": 597
        },
        "id": "fQkPLaDk_35n",
        "outputId": "ec09e903-efde-4160-d1d7-a10ef7e26a78"
      }
    },
    {
      "cell_type": "markdown",
      "source": [
        "#IDENTIFICÃO DOS USUÁRIOS"
      ],
      "metadata": {
        "id": "Dgp4MtXeVmDa"
      }
    },
    {
      "cell_type": "code",
      "execution_count": null,
      "source": [
        "tabela['Tipo_Identidade'].value_counts()"
      ],
      "outputs": [
        {
          "output_type": "execute_result",
          "data": {
            "text/plain": [
              "cpf     52078\n",
              "int     26547\n",
              "cnpj    10900\n",
              "Name: Tipo_Identidade, dtype: int64"
            ]
          },
          "metadata": {},
          "execution_count": 617
        }
      ],
      "metadata": {
        "colab": {
          "base_uri": "https://localhost:8080/"
        },
        "id": "qBGDSDOIRXa1",
        "outputId": "47389eae-18d0-43f5-c92a-909508a11636"
      }
    },
    {
      "cell_type": "code",
      "execution_count": 10,
      "source": [
        "rotulos = ['CPF', 'INT', 'CNPJ']\n",
        "valores = [52078, 26547, 10900]\n",
        "colors = [\"#20257c\", \"#424ad1\", \"#6a8ee8\"]\n",
        "plt.figure(figsize=(10,10))\n",
        "plt.bar(rotulos,valores, color = colors,edgecolor ='black', linewidth = 2,)\n",
        "plt.title('Tipos de identidade mais utilizados', fontsize= 20,\n",
        "          fontweight='bold')\n",
        "plt.ylabel('Valores',fontsize= 30)\n",
        "plt.show()"
      ],
      "outputs": [
        {
          "output_type": "display_data",
          "data": {
            "image/png": "[encoded data removed]",
            "text/plain": [
              "<Figure size 720x720 with 1 Axes>"
            ]
          },
          "metadata": {
            "needs_background": "light"
          }
        }
      ],
      "metadata": {
        "colab": {
          "base_uri": "https://localhost:8080/",
          "height": 612
        },
        "id": "iPTR_s_qV7XV",
        "outputId": "341c1da8-6665-46e8-ccde-e8ab1c416f65"
      }
    }
  ]
}